{
 "cells": [
  {
   "cell_type": "markdown",
   "metadata": {},
   "source": [
    "## HYD 142 HW \\#1\n",
    "\n",
    "Kenneth Larrieu"
   ]
  },
  {
   "cell_type": "code",
   "execution_count": 2,
   "metadata": {},
   "outputs": [],
   "source": [
    "import numpy as np\n",
    "import pandas as pd\n",
    "import matplotlib.pyplot as plt\n",
    "%matplotlib inline"
   ]
  },
  {
   "cell_type": "markdown",
   "metadata": {},
   "source": [
    "### 1. Exercise 1.6"
   ]
  },
  {
   "cell_type": "code",
   "execution_count": 6,
   "metadata": {
    "collapsed": false
   },
   "outputs": [
    {
     "name": "stdout",
     "output_type": "stream",
     "text": [
      "means:\n",
      "discharge: 13352.941176\n",
      "recharge: 13311.764706\n",
      "\n",
      "variances:\n",
      "discharge: 4542491.349481\n",
      "recharge: 4652802.768166\n",
      "\n",
      "standard deviations:\n",
      "discharge: 2131.312119\n",
      "recharge: 2157.035644\n",
      "\n",
      "correlation: 0.915616\n"
     ]
    }
   ],
   "source": [
    "discharge = [11300, 12800, 12700, 10400, 10800, 11500, 9900, 11900, 13000, 13700,\n",
    "             14100, 15200, 15100, 15400, 16000, 16500, 16700]\n",
    "recharge = [11400, 14600, 13600, 10100, 9900, 12200, 9700, 11800, 12700, 13600,\n",
    "            14600, 14900, 14300, 14200, 17400, 16400, 14900]\n",
    "\n",
    "n = len(discharge)\n",
    "\n",
    "# means\n",
    "d_mean = sum(discharge)*1.0/n\n",
    "r_mean = sum(recharge)*1.0/n\n",
    "\n",
    "print('means:\\ndischarge: %f\\nrecharge: %f\\n' % (d_mean, r_mean))\n",
    "\n",
    "# variances\n",
    "d_var = sum([(d-d_mean)**2 for d in discharge])*1.0/n\n",
    "r_var = sum([(r-r_mean)**2 for r in recharge])*1.0/n\n",
    "\n",
    "print('variances:\\ndischarge: %f\\nrecharge: %f\\n' % (d_var, r_var))\n",
    "\n",
    "# standard deviations\n",
    "d_std = np.sqrt(d_var)\n",
    "r_std = np.sqrt(r_var)\n",
    "\n",
    "print('standard deviations:\\ndischarge: %f\\nrecharge: %f\\n' % (d_std, r_std))\n",
    "\n",
    "# correlation\n",
    "covar = sum([(d-d_mean)*(r-r_mean) for d, r in zip(discharge, recharge)])*1.0/n\n",
    "corr = covar*1.0/(d_std*r_std)\n",
    "\n",
    "print('correlation: %f' % corr)"
   ]
  },
  {
   "cell_type": "markdown",
   "metadata": {},
   "source": [
    "### 2. Exercise 1.7"
   ]
  },
  {
   "cell_type": "code",
   "execution_count": 9,
   "metadata": {
    "collapsed": false
   },
   "outputs": [
    {
     "name": "stdout",
     "output_type": "stream",
     "text": [
      "mean flood: 70438.620690 cfs\n",
      "flood variance: 2705297887.752676\n"
     ]
    },
    {
     "data": {
      "image/png": "iVBORw0KGgoAAAANSUhEUgAAA/EAAAH4CAYAAAACUW10AAAABHNCSVQICAgIfAhkiAAAAAlwSFlz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\nkiT1hEm8JEmSJEk9YRIvSZIkSVJP/H/eBK3BsSL6wgAAAABJRU5ErkJggg==\n",
      "text/plain": [
       "<matplotlib.figure.Figure at 0xa9ac320>"
      ]
     },
     "metadata": {},
     "output_type": "display_data"
    }
   ],
   "source": [
    "floods = {1907: 230000, 1956: 203000, 1928: 185000, 1938: 185000, 1940: 152000,\n",
    "          1909: 140000, 1960: 135000, 1906: 128000, 1914: 122000, 1904: 118000,\n",
    "          1953: 113000, 1942: 110000, 1943: 108000, 1958: 102000, 1903: 102000,\n",
    "          1927: 94000, 1951: 92100, 1936: 85400, 1941: 84200, 1957: 83100,\n",
    "          1915: 81400, 1905: 81000, 1917: 80400, 1930: 80100, 1911: 75400,\n",
    "          1919: 65900, 1925: 64300, 1921: 62300, 1945: 60100, 1952: 59200,\n",
    "          1935: 58600, 1926: 55700, 1954: 54800, 1946: 54400, 1950: 46400,\n",
    "          1947: 45600, 1916: 42400, 1924: 42400, 1902: 41000, 1948: 36700,\n",
    "          1922: 36400, 1959: 34500, 1910: 31000, 1918: 28200, 1944: 24900,\n",
    "          1920: 23400, 1932: 22600, 1923: 22400, 1934: 20300, 1937: 19200,\n",
    "          1913: 16800, 1949: 16800, 1912: 16400, 1908: 16300, 1929: 14000,\n",
    "          1952: 13000, 1931: 11600, 1933: 8860, 1939: 8080}\n",
    "\n",
    "# mean\n",
    "f_mean = sum(floods.values())*1.0/len(floods.values())\n",
    "\n",
    "print('mean flood: %f cfs' % f_mean)\n",
    "\n",
    "# variance\n",
    "f_var = sum([(f-f_mean)**2 for f in floods.values()])*1.0/len(floods.values())\n",
    "\n",
    "print('flood variance: %f'% f_var)\n",
    "\n",
    "# histogram and frequency distribution\n",
    "bins = xrange(0, 240000, 20000)\n",
    "fig, ax1 = plt.subplots(figsize=(16,8))\n",
    "ax1.set(title='Oroville Annual Flood Flow Histogram and Frequency Distribution')\n",
    "ax1.hist(floods.values(), bins)\n",
    "ax1.set_xlabel('Flood (cfs)')\n",
    "ax1.set_ylabel('Histogram\\nNumber of occurences per 20,000 cfs interval')\n",
    "ax2 = ax1.twinx()\n",
    "ax2.set_ylim(0, ax1.get_yticks()[-1]/len(floods.values()))\n",
    "ax2.set_yticks(np.linspace(0, ax2.get_yticks()[-1], len(ax1.get_yticks())))\n",
    "ax2.set_ylabel('Proportion of observations per 20,000 cfs interval\\nFrequency Distribution')\n",
    "plt.show()"
   ]
  },
  {
   "cell_type": "markdown",
   "metadata": {},
   "source": [
    "Reading the results from the frequency distribution, the relative frequency of a flow of 20,000 cfs or greater is $1-0.18 = \\boxed{0.82}$."
   ]
  },
  {
   "cell_type": "markdown",
   "metadata": {},
   "source": [
    "### 3. Exercise 1.9"
   ]
  },
  {
   "cell_type": "code",
   "execution_count": 42,
   "metadata": {
    "collapsed": false
   },
   "outputs": [
    {
     "name": "stdout",
     "output_type": "stream",
     "text": [
      "mean flow rate: 886.454545\n",
      "flow rate variance: 189965.202479\n"
     ]
    }
   ],
   "source": [
    "flows = [1340, 1380, 1450, 618, 523, 508, 1220, 1780, 1090, 944, 397, 282, 353,\n",
    "         597, 995, 611, 985, 1430, 778, 1280, 1020, 1300, 1060, 412, 184, 1480,\n",
    "         876, 113, 516, 1000, 1890, 611, 409, 780, 674, 969, 870, 329, 458, 1556,\n",
    "         1217, 819, 576, 1324]\n",
    "\n",
    "# mean\n",
    "f_mean = sum(flows)*1.0/len(flows)\n",
    "\n",
    "print('mean flow rate: %f' % f_mean)\n",
    "\n",
    "# variance\n",
    "f_var = sum([(f-f_mean)**2 for f in flows])*1.0/len(flows)\n",
    "\n",
    "print('flow rate variance: %f' % f_var)"
   ]
  },
  {
   "cell_type": "markdown",
   "metadata": {},
   "source": [
    "A histogram would be useful for determining the likelihood of the annual maximum flow exceeding the proposed cofferdam height. The ultimate decision of which cofferdam height to build has to account for the tradeoff between the cost of building a higher cofferdam vs the chances of the cofferdam being fooded and incurring costs and project delays. I would make the choice that minimizes expected cost:\n",
    "\n",
    "expected cost for the 3 m cofferdam: $P(\\text{flow }>200 \\text{ cfs}) (\\$45,600) + P(\\text{flow }\\leq 200 \\text{ cfs}) (\\$15,600)$\n",
    "\n",
    "expected cost for the 4.5 m cofferdam: $P(\\text{flow }>550 \\text{ cfs}) (\\$38,600) + P(\\text{flow }\\leq 550 \\text{ cfs}) (\\$18,600)$\n",
    "\n",
    "Time comes into play because that will affect the probabilities in the above expressions, e.g. higher flows are more probable during the rainy season."
   ]
  },
  {
   "cell_type": "markdown",
   "metadata": {},
   "source": [
    "### 4. \n",
    "$$p_{X,Y}(1,1) = 0.1, \\, p_{X,Y}(1,2) = 0.2, \\, p_{X,Y}(1,3) = 0.1, \\, p_{X,Y}(2,1) = 0.2, \\, p_{X,Y}(2,2) = 0.3, \\, p_{X,Y}(2,3) = 0.1$$\n",
    "\n",
    "a.\n",
    "$$p_X(x) = \\sum_{i} p_{X,Y}(x, y_i)$$\n",
    "$$p_X(1) = p_{X,Y}(1,1)+p_{X,Y}(1,2)+p_{X,Y}(1,3) = 0.1+0.2+0.1$$\n",
    "$$p_X(2) = p_{X,Y}(2,1)+p_{X,Y}(2,2)+p_{X,Y}(2,3) = 0.2+0.3+0.1$$\n",
    "$$\\boxed{p_X(1) = 0.4, \\, p_X(2) = 0.6}$$\n",
    "    \n",
    "Similarly,\n",
    "\n",
    "$$p_Y(y) = \\sum_i p_{X,Y}(x_i, y)$$\n",
    "$$\\boxed{p_Y(1) = 0.3, \\, p_Y(2) = 0.5, \\, p_Y(3) = 0.2}$$\n",
    "\n",
    "b. \n",
    "$$p_{X|Y}(x|y) = \\frac{p_{X,Y}(x, y)}{p_Y(y)}$$\n",
    "\n",
    "$$\\boxed{p_{X|Y}(1|1) = \\frac{1}{3}, \\, p_{X|Y}(2|1) = \\frac{2}{3}}$$\n",
    "\n",
    "$$\\boxed{p_{X|Y}(1|2) = \\frac{2}{5},  \\, p_{X|Y}(2|2) = \\frac{3}{5}}$$\n",
    "\n",
    "$$\\boxed{p_{X|Y}(1|3) = \\frac{1}{2}, \\, \\, p_{X|Y}(2|3) = \\frac{1}{2}}$$\n",
    "\n",
    "$$p_{Y|X}(y|x) = \\frac{p_{X,Y}(x,y)}{p_{X}(x)}$$\n",
    "\n",
    "$$\\boxed{p_{Y|X}(1|1) = \\frac{1}{4}, \\, p_{Y|X}(2|1) = \\frac{1}{2}, \\, p_{Y|X}(3|1) = \\frac{1}{4}}$$\n",
    "\n",
    "$$\\boxed{p_{Y|X}(1|2) = \\frac{1}{3}, \\, p_{Y|X}(2|2) = \\frac{1}{2}, \\, p_{Y|X}(3|2) = \\frac{1}{6}}$$"
   ]
  },
  {
   "cell_type": "markdown",
   "metadata": {},
   "source": [
    "### 5.\n",
    "\n",
    "$S = 2X + Y$\n",
    "\n",
    "$f_X(x)=f_Y(x) = \\frac{1}{2}, 0 \\leq x \\leq 2$\n",
    "\n",
    "Therefore, $f_{X,Y}(x,y) = f_X(x) \\cdot f_Y(y) = \\frac{1}{4}, \\, 0 \\leq x \\leq 2, \\, 0 \\leq y \\leq 2$\n",
    "\n",
    "a. Find and sketch $f_S(s)$"
   ]
  },
  {
   "cell_type": "markdown",
   "metadata": {},
   "source": [
    "$$F_S(s) = P[S \\leq s] = P[2X+Y \\leq s] = P[Y \\leq -2X + s]$$\n",
    "\n",
    "For $0 \\leq s \\leq 2$,\n",
    "\n",
    "$$F_S(s) = \\int_{0}^{\\frac{s}{2}} \\int_{0}^{-2x+s} \\frac{1}{4} \\, dy \\, dx = \\int_{0}^{\\frac{s}{2}} (\\frac{-x}{2}+\\frac{s}{4})\\, dx = \\frac{s^2}{8} -\\frac{s^2}{16} = \\frac{s^2}{16}$$\n",
    "\n",
    "For $2 \\leq s \\leq 4$,\n",
    "\n",
    "$$F_S(s) = \\int_{0}^{2} \\int_{0}^{\\frac{s-y}{2}} \\frac{1}{4} \\, dx \\, dy = \\int_{0}^{2} \\frac{s-y}{8} \\, dy = \\frac{s-1}{4}$$\n",
    "\n",
    "For $4 \\leq s \\leq 6$,\n",
    "\n",
    "$$F_S(s) = \\int_{0}^{\\frac{s}{2}-1} \\int_{0}^{2} \\frac{1}{4} \\, dy \\, dx + \\int_{\\frac{s}{2}-1}^{2} \\int_{0}^{-2x+s} \\frac{1}{4} \\, dy \\, dx = \\frac{s}{4}-\\frac{1}{2} + \\frac{1}{4} \\int_{\\frac{s}{2}-1}^{2} (-2x+s) \\, dx = \\frac{1}{4}(3s-5-\\frac{s^2}{4})$$\n",
    "\n",
    "Then, $f_S(s) = \\frac{d F_S(s)}{ds}$:\n",
    "\n",
    "For $0 \\leq s \\leq 2$, $\\boxed{f_S(s) = \\frac{s}{8}}$.\n",
    "\n",
    "For $2 \\leq s \\leq 4$, $\\boxed{f_S(s) = \\frac{1}{4}}$.\n",
    "\n",
    "For $4 \\leq s \\leq 6$, $\\boxed{f_S(s) = \\frac{3}{4}-\\frac{s}{8}}$."
   ]
  },
  {
   "cell_type": "code",
<<<<<<< HEAD
   "execution_count": 5,
   "metadata": {},
=======
   "execution_count": 54,
   "metadata": {
    "collapsed": false
   },
>>>>>>> 7399c69aaf07cca043f6a11523142fe918391e2f
   "outputs": [
    {
     "data": {
      "image/png": "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\n",
      "text/plain": [
       "<Figure size 1152x576 with 1 Axes>"
      ]
     },
     "metadata": {
      "needs_background": "light"
     },
     "output_type": "display_data"
    }
   ],
   "source": [
    "fig, ax = plt.subplots(figsize=(16,8))\n",
    "\n",
    "s = np.linspace(0, 6, 100)\n",
    "f = [x*1.0/8 if 0 <= x < 2 else 1.0/4 if 2 <= x < 4 else 3.0/4-x*1.0/8 for x in s]\n",
    "ax.plot(s, f)\n",
    "ax.set(title=r'$f_S(s)$')\n",
    "ax.set_xlabel('s')\n",
    "ax.set_ylim(0, 0.3)\n",
    "ax.grid()\n",
    "plt.show()"
   ]
  },
  {
   "cell_type": "markdown",
   "metadata": {},
   "source": [
    "b. Find and sketch $f_{X|S}(x|s)$.\n",
    "\n",
    "$$F_{S \\,| \\, X}(s \\, | \\, x) = P(S \\leq s \\, | \\, X=x) = P(2X+Y \\leq s \\, | \\, X=x) = P(Y \\leq s-2x) = F_Y(s-2x)$$\n",
    "\n",
    "$$F_{S \\,| \\, X}(s \\, | \\, x) = \\frac{1}{2}(s-2x), \\quad 2x \\leq s \\leq 2x+2; \\quad 0, \\text{ otherwise}$$\n",
    "\n",
    "$$f_{S \\,| \\, X}(s \\, | \\, x) = \\frac{\\partial F_{S \\,| \\, X}(s \\, | \\, x)}{\\partial s} = \\frac{1}{2}, \\quad 2x \\leq s \\leq 2x+2; \\quad 0, \\text{ otherwise}$$\n",
    "\n",
    "Then using Bayes' theorem to get $f_{X \\, | \\, S}(x \\, | \\, s)$:\n",
    "\n",
    "$$f_{X \\, | \\, S}(x \\, | \\, s) = \\frac{f_{S \\,| \\, X}(s \\, | \\, x) f_X(x)}{f_S(s)}$$\n",
    "\n",
    "which is defined for $0 \\leq s \\leq 6$.\n",
    "\n",
    "For $0 < s \\leq 2$:\n",
    "\n",
    "$$\\boxed{f_{X \\, | \\, S}(x \\, | \\, s) = \\frac{2}{s}, \\quad 0 \\leq x \\leq \\frac{s}{2}, \\quad 0, \\text{ otherwise}}$$\n",
    "\n",
    "For $2 \\leq s \\leq 4$:\n",
    "\n",
    "$$\\boxed{f_{X \\, | \\, S}(x \\, | \\, s) = 1, \\quad \\frac{s}{2}-1 \\leq x \\leq \\frac{s}{2}, \\quad 0, \\text{ otherwise}}$$\n",
    "\n",
    "For $4 \\leq s < 6$:\n",
    "\n",
    "$$\\boxed{f_{X \\, | \\, S}(x \\, | \\, s) = \\frac{2}{6-s}, \\quad \\frac{s}{2}-1 \\leq x \\leq 2, \\quad 0, \\text{ otherwise}}$$\n",
    "\n",
    "For $s=0$:\n",
    "\n",
    "$$\\boxed{f_{X \\, | \\, S}(x \\, | \\, s) = \\delta(x)}$$\n",
    "\n",
    "For $s=6$:\n",
    "\n",
    "$$\\boxed{f_{X \\, | \\, S}(x \\, | \\, s) = \\delta(x-2)}$$\n",
    "\n",
    "where $\\delta(x)$ is the Dirac delta function.\n",
    "\n",
    "From here we see that for $0<s<6$, $f_{X \\, | \\, S}(x \\, | \\, s)$ has a uniform distribution over the interval of $x$ values that are possible for the given $s$. When $s=0$ and $s=6$, $x$ can only take one value ($0$ and $2$, correspondingly), and the density must integrate to $1$, so $f_{X \\, | \\, S}(x \\, | \\, s)$ can be thought of as a Dirac delta function.\n",
    "\n",
    "c. Find $\\mathbb{E}[X|S=1]$\n",
    "\n",
    "In the case where $s=1$,\n",
    "\n",
    "$$f_{X \\, | \\, S}(x \\, | \\, 1) = 2, \\quad 0 \\leq x \\leq \\frac{1}{2}, \\quad 0, \\text{ otherwise}$$\n",
    "\n",
    "Then,\n",
    "\n",
    "$$\\mathbb{E}[X \\, | \\, S=1] = \\int_{-\\infty}^{\\infty} x \\, f_{X \\, | \\, S}(x \\, | \\, 1) \\, dx = \\int_0^{\\frac{1}{2}} x \\cdot 2 \\, dx = \\boxed{\\frac{1}{4}}$$\n",
    "\n",
    "d. Find $\\mathbb{E}[X^2|S=1]$\n",
    "\n",
    "Similarly,\n",
    "\n",
    "$$\\mathbb{E}[X^2 \\, | \\, S=1] = \\int_{-\\infty}^{\\infty} x^2 \\, f_{X \\, | \\, S}(x \\, | \\, 1) \\, dx = \\int_0^{\\frac{1}{2}} x^2 \\cdot 2 \\, dx = \\boxed{\\frac{1}{12}}$$"
   ]
  },
  {
   "cell_type": "markdown",
   "metadata": {},
   "source": [
    "### 6. Exercise 2.7\n",
    "\n",
    "a. Since the events are independent, $P(\\text{earthquake}\\cap \\text{wind}) = P(\\text{earthquake}) \\cdot P(\\text{wind}) = 10^{-8} \\cdot 10^{-5} = \\boxed{10^{-13}}$. It is reasonable that building codes do not require both to be accounted for, there is a $99.99$% chance of then not occuring in the same minute for $1000$ years.\n",
    "\n",
    "b. Since $P(\\text{earthquake}\\cap \\text{wind}) \\ll P(\\text{earthquake})$, and $P(\\text{earthquake}\\cap \\text{wind})\\ll P(\\text{wind})$, we can approximate:\n",
    "\n",
    "$P(\\text{earthquake}\\cup \\text{wind}) \\approx P(\\text{earthquake}) + P(\\text{wind}) = 10^{-8} + 10^{-5} = \\boxed{0.00001001 \\approx 10^{-5}}$. So this is essentially the same as the probability of high wind, since that is much more likely than an earthquake.\n",
    "\n",
    "c. Since each minute is independent, $P(\\text{no earthquake in first minute} \\cap \\text{no earthquake in second minute} \\cap \\text{...})= P(\\text{no earthquake in first minute}) \\cdot P(\\text{no earthquake in second minute})\\text{...}$. This is equal to $P(\\text{no earthquake in one minute})^n$, where $n$ is the total number of minutes. Then,\n",
    "\n",
    "$$\\boxed{P(\\text{no earthquakes in one year}) = (1-10^{-8})^{525,600} = 0.995}$$\n",
    "\n",
    "$$\\boxed{P(\\text{no earthquakes in 100 years}) = (1-10^{-8})^{52,560,000} = 0.591}$$\n"
   ]
  },
  {
   "cell_type": "markdown",
   "metadata": {},
   "source": [
    "### 7. Exercise 2.14\n",
    "\n",
    "a. $P(\\text{first 4 days rainy}) = P(\\text{rain day 1}) P(\\text{rain day 2 } | \\text{ rain day 1}) P(\\text{rain day 3 } | \\text{ rain day 1 } \\cap \\text{ rain day 2}) P(\\text{rain day 4 } | \\text{ rain day 1 } \\cap \\text{ rain day 2 } \\cap \\text{ rain day 3}) = \\frac{10}{80} \\cdot \\frac{10}{50} \\cdot \\frac{10}{50} \\cdot \\frac{10}{50} = \\boxed{0.001}$\n",
    "\n",
    "b. $P(\\text{rain day 1}) P(\\text{dry day 2 } | \\text{ rain day 1}) P(\\text{dry day 3 } | \\text{ rain day 1 } \\cap \\text{ dry day 2}) P(\\text{dry day 4 } | \\text{ rain day 1 } \\cap \\text{ dry day 2 } \\cap \\text{ dry day 3}) = \\frac{10}{80} \\cdot \\frac{40}{50} \\cdot \\frac{90}{100} \\cdot \\frac{90}{100} = \\boxed{0.081}$"
   ]
  },
  {
   "cell_type": "markdown",
   "metadata": {},
   "source": [
    "### 8.\n",
    "\n",
    "a. $P(k \\text{ marked }| \\, m \\text{ picked}) = \\frac{P(k \\text{ marked } \\cap \\, m \\text{ picked})}{P(m \\text{ picked})} = \\boxed{\\frac{{{{n} \\choose {k}}} {{{N-n} \\choose {m-k}}}}{{{N} \\choose {m}}}}$\n",
    "\n",
    "b. This is just asking for $P(k \\geq 1 \\text{ marked } | \\, m \\text{ picked})$, in the case where $N=1000$, $n=100$, and $m=10$.\n",
    "\n",
    "$$\\sum_{k=1}^{10} \\frac{{{{100} \\choose {k}}}{{{900} \\choose {10-k}}}}{{{1000} \\choose {10}}} = \\boxed{0.653}$$"
   ]
  },
  {
   "cell_type": "markdown",
   "metadata": {},
   "source": [
    "### 9.\n",
    "\n",
    "a. This is a geometric distribution: $p_X(x) = (1-0.0186)^{x-1} (0.0186)$. This implies: \n",
    "$$\\boxed{F_X(x) = \\sum_{k=1}^{x} (1-0.0186)^{k-1} (0.0186)}$$\n",
    "\n",
    "b.\n",
    "\n",
    "$$P(X < 10) = F_X(9) = \\sum_{k=1}^{9} (1-0.0186)^{k-1} (0.0186)=\\boxed{0.156}$$\n",
    "\n",
    "c.\n",
    "\n",
    "$$P(X < 20) = F_X(19) = \\sum_{k=1}^{19} (1-0.0186)^{k-1} (0.0186)=\\boxed{0.300}$$\n",
    "\n",
    "d.\n",
    "\n",
    "$$P(X \\leq 52) = F_X(52) = \\sum_{k=1}^{52} (1-0.0186)^{k-1} (0.0186)=\\boxed{0.623}$$\n",
    "\n",
    "e.\n",
    "\n",
    "$$P(X \\leq 104) = F_X(104) = \\sum_{k=1}^{104} (1-0.0186)^{k-1} (0.0186)=\\boxed{0.858}$$"
   ]
  },
  {
   "cell_type": "markdown",
   "metadata": {},
   "source": [
    "### 10.\n",
    "\n",
    "$$Z = X + Y$$\n",
    "\n",
    "$$Var(X+Y) = Var(Z) = \\mathbb{E}[(Z-\\mu_Z)^2] = \\mathbb{E}[Z^2-2Z\\mu_Z+\\mu_Z^2] = \\mathbb{E}[Z^2]-2\\mu_Z\\mathbb{E}[Z]+\\mu_Z^2$$\n",
    "\n",
    "Since the expectation value operator is linear. Substituting $\\mu_Z=\\mu_X+\\mu_Y$ and $Z = X + Y$ yields\n",
    "\n",
    "$$\\mathbb{E}[X^2+2XY+Y^2] - 2(\\mu_X+\\mu_Y)\\mathbb{E}[X+Y]+(\\mu_X+\\mu_Y)^2 = \\mathbb{E}[X^2]+2\\mathbb{E}[XY]+\\mathbb{E}[Y^2]-2\\mu_X^2-2\\mu_Y^2-4\\mu_X\\mu_Y + \\mu_X^2+\\mu_Y^2+2\\mu_X\\mu_Y$$"
   ]
  },
  {
   "cell_type": "markdown",
   "metadata": {},
   "source": [
    "$$=\\mathbb{E}[X^2] + 2\\mathbb{E}[XY] + \\mathbb{E}[Y^2] - (\\mu_X^2+\\mu_Y^2+2\\mu_X\\mu_Y)$$\n",
    "\n",
    "$$=(\\mathbb{E}[X^2]-\\mu_X^2) + (\\mathbb{E}[Y^2] - \\mu_Y^2) + 2(\\mathbb{E}[XY] - \\mu_X\\mu_Y) = Var(X) + Var(Y) + 2Cov(X, Y)$$\n",
    "\n",
    "Since $X$ and $Y$ are independent, $Cov(X, Y) = 0$, therefore $\\boxed{Var(X+Y) = Var(X) + Var(Y)}$."
   ]
  },
  {
   "cell_type": "markdown",
   "metadata": {},
   "source": [
    "### 11.\n",
    "\n",
    "a. Take $R = $ it rains, $F = $ rain forecasted, $U = $ takes umbrella. We are given that:\n",
    "\n",
    "$$P(R) = P(R^c) = \\frac{1}{2}$$\n",
    "\n",
    "$$P(R | F) = P(R^c | F^c) = \\frac{2}{3}, \\quad\\text{ thus }P(R^c| F) = P(R| F^c) = \\frac{1}{3}$$\n",
    "\n",
    "$$P(U | F) = 1, \\quad P(U | F^c) = \\frac{1}{3}; \\quad\\text{ thus }P(U^c| F) = 0, \\quad P(U^c | F^c) = \\frac{2}{3}$$\n",
    "\n",
    "Find $P(U^c | R)$."
   ]
  },
  {
   "cell_type": "markdown",
   "metadata": {},
   "source": [
    "$$P(R) = P(R|F)P(F) + P(R|F^c)(1-P(F)) = \\frac{2}{3}P(F) + \\frac{1}{3}(1-P(F)) = \\frac{1}{2}$$\n",
    "\n",
    "$$\\frac{1}{3}P(F) = \\frac{1}{6} \\quad \\rightarrow \\quad P(F) = \\frac{1}{2}, \\quad P(F^c) = \\frac{1}{2}$$\n",
    "\n",
    "$$P(U^c|R)P(R) = P(U^c \\cap R) = P(U^c \\cap R \\cap F) + P(U^c \\cap R \\cap F^c)$$\n",
    "\n",
    "$$P(U^c|R)P(R) = P(U^c | R \\cap F)P(R|F)P(F) + P(U^c | R \\cap F^c)P(R|F^c)P(F^c)$$\n",
    "\n",
    "Since $P(R) = P(F) = P(F^c) = \\frac{1}{2}$, we can divide by $\\frac{1}{2}$ on both sides, yielding:\n",
    "\n",
    "$$P(U^c|R) = P(U^c | R \\cap F)P(R|F) + P(U^c | R \\cap F^c)P(R | F^c)$$\n",
    "\n",
    "$$P(U^c|R) = 0 \\cdot \\frac{2}{3} + \\frac{2}{3} \\cdot \\frac{1}{3} = \\boxed{\\frac{2}{9}}$$\n",
    "\n",
    "\n",
    "b. Find $P(U | R^c)$.\n",
    "\n",
    "Similarly,\n",
    "\n",
    "$$P(U|R^c)P(R^c) = P(U | R^c \\cap F)P(R^c|F)P(F) + P(U | R^c \\cap F^c)P(R^c|F^c)P(F^c)$$\n",
    "\n",
    "Dividing both sides by $P(R^c) = P(F) = P(F^c) = \\frac{1}{2}$:\n",
    "\n",
    "$$P(U|R^c) = P(U | R^c \\cap F)P(R^c|F) + P(U | R^c \\cap F^c)P(R^c|F^c)$$\n",
    "\n",
    "$$P(U|R^c) = 1 \\cdot \\frac{1}{3} + \\frac{1}{3} \\cdot \\frac{2}{3} = \\boxed{\\frac{5}{9}}$$"
   ]
  },
  {
   "cell_type": "markdown",
   "metadata": {},
   "source": [
    "### 12. Exercise 2.10 parts (a) - (d)\n",
    "\n",
    "a. Take $I = $ insufficient water supply, $D_i = $ water demand level. Then:\n",
    "\n",
    "$$P(I) = \\sum_{i=1}^3 P(I | D_i) P(D_i) = 0 \\cdot 0.6 + 0.1 \\cdot 0.3 + 0.5 \\cdot 0.1 = \\boxed{0.21}$$\n",
    "\n",
    "b. For $D_2 = 150,000$ gd, we want $P(D_2 | I)$, the probability that $D_2$ \"caused\" insufficient water supply.\n",
    "\n",
    "$$P(D_2 | I) = \\frac{P(I | D_2) P(D_2)}{P(I)} = \\frac{0.1 \\cdot 0.3}{0.21} = \\boxed{0.143}$$\n",
    "\n",
    "c. $P(I) = P(I|F)P(F) + P(I|F^c)P(F^c) = P(I)P(F) + P(I)P(F^c) = $???? What is this question asking? Total probability of what??\n",
    "\n",
    "d.\n",
    "\n",
    "$$P(M_i | )$$"
   ]
  },
  {
   "cell_type": "markdown",
   "metadata": {},
   "source": [
    "### 13.\n",
    "\n",
    "a. \n",
    "\n",
    "$$\\boxed{P(X \\leq 1) = F_X(1) = 1 - e^{-4} = 0.98168}$$\n",
    "\n",
    "$$\\boxed{P(X \\geq 2) = 1 - F_X(2) = e^{-8} = 0.000335}$$\n",
    "\n",
    "$$\\boxed{P(X = 2) = 0} $$ since the distribution is continuous.\n",
    "\n",
    "b.\n",
    "\n",
    "$$\\boxed{f_X(x) = \\frac{\\partial F_X(x)}{\\partial x} = 4 e^{-4x}, \\quad x \\geq 0}$$\n",
    "\n",
    "c.\n",
    "\n",
    "$$\\boxed{p_Y(0) = F_X(2) = 1 - e^{-8} = 0.999665}$$\n",
    "\n",
    "$$\\boxed{p_Y(1) = 1 - F_X(2) = e^{-8} = 0.000335}$$\n",
    "\n",
    "d.\n",
    "\n",
    "$$Z = X_1 + X_2$$\n",
    "\n",
    "$$\\boxed{f_Z(z) = \\int_0^{z} f_X(x) f_X(z-x) dx = 16 \\int_0^{z} e^{-4x} e^{-4(z-x)} dx = 16 \\int_0^{z} e^{-4z} dx = 16 \\, z \\, e^{-4z}, \\quad z \\geq 0}$$\n",
<<<<<<< HEAD
    "\n",
    "$$\\boxed{F_Z(z) = \\int_0^z 16 \\, z \\, e^{-4z} dz = -4 z e^{-4z} + \\int_0^z 4 e^{-4z} dz = 1 - e^{-4z}(4z + 1), \\quad z \\geq 0}$$\n",
    "\n",
    "$$\\varphi_Z(u) = \\int_{-\\infty}^\\infty e^{iuz} f_Z(z) dz = 16 \\int_0^\\infty z e^{(iu - 4)z} dz = \\frac{16}{iu-4}z e^{(iu - 4)z} \\Big|_0^{\\infty} - \\frac{16}{iu - 4} \\int_0^\\infty e^{(iu - 4)z} dz$$\n",
    "\n",
    "$$\\varphi_Z(u) = \\frac{16}{(iu-4)^2}$$\n",
    "\n",
    "$$\\mu = \\mathbb{E}[Z] = \\frac{1}{i} \\frac{\\partial \\varphi_Z(u)}{\\partial u} \\Big|_{u=0} = \\frac{-32}{(iu-4)^3} \\Big|_{u=0} = \\frac{1}{2} $$\n",
    "\n",
    "We see the derivatives of $\\varphi_Z(u)$ follow a pattern:\n",
    "\n",
    "$$\\frac{\\partial^n \\varphi_Z(u)}{\\partial u^n} \\Big|_{u=0} = \\frac{(-1)^n i^n (n+1)! 16}{(iu-4)^{n+2}} \\Big|_{u=0} = \\frac{i^n (n+1)!}{4^n}$$\n",
    "\n",
    "Thus the moments become:\n",
    "\n",
    "$$\\mathbb{E}[Z^n] = \\frac{1}{i^n} \\frac{\\partial^n \\varphi_Z(u)}{\\partial u^n} \\Big|_{u=0} = \\frac{(n+1)!}{4^n} $$\n",
    "\n",
    "The first central moment is always zero:\n",
    "\n",
=======
    "\n",
    "$$\\boxed{F_Z(z) = \\int_0^z 16 \\, z \\, e^{-4z} dz = -4 z e^{-4z} + \\int_0^z 4 e^{-4z} dz = 1 - e^{-4z}(4z + 1), \\quad z \\geq 0}$$\n",
    "\n",
    "$$\\varphi_Z(u) = \\int_{-\\infty}^\\infty e^{iuz} f_Z(z) dz = 16 \\int_0^\\infty z e^{(iu - 4)z} dz = \\frac{16}{iu-4}z e^{(iu - 4)z} \\Big|_0^{\\infty} - \\frac{16}{iu - 4} \\int_0^\\infty e^{(iu - 4)z} dz$$\n",
    "\n",
    "$$\\varphi_Z(u) = \\frac{16}{(iu-4)^2}$$\n",
    "\n",
    "$$\\mu = \\mathbb{E}[Z] = \\frac{1}{i} \\frac{\\partial \\varphi_Z(u)}{\\partial u} \\Big|_{u=0} = \\frac{-32}{(iu-4)^3} \\Big|_{u=0} = \\frac{1}{2} $$\n",
    "\n",
    "We see the derivatives of $\\varphi_Z(u)$ follow a pattern:\n",
    "\n",
    "$$\\frac{\\partial^n \\varphi_Z(u)}{\\partial u^n} \\Big|_{u=0} = \\frac{(-1)^n i^n (n+1)! 16}{(iu-4)^{n+2}} \\Big|_{u=0} = \\frac{i^n (n+1)!}{4^n}$$\n",
    "\n",
    "Thus the moments become:\n",
    "\n",
    "$$\\mathbb{E}[Z^n] = \\frac{1}{i^n} \\frac{\\partial^n \\varphi_Z(u)}{\\partial u^n} \\Big|_{u=0} = \\frac{(n+1)!}{4^n} $$\n",
    "\n",
    "The first central moment is always zero:\n",
    "\n",
>>>>>>> 7399c69aaf07cca043f6a11523142fe918391e2f
    "$$\\mathbb{E}[(Z-\\mu)^1] = \\mathbb{E}[Z] - \\mathbb{E}[\\mu] = \\mu - \\mu = \\boxed{0}$$\n",
    "\n",
    "Second central moment:\n",
    "\n",
    "$$\\mathbb{E}[(Z-\\mu)^2] = \\mathbb{E}[Z^2] - 2\\mu \\mathbb{E}[Z] + \\mu^2\\mathbb{E}[1] = \\mathbb{E}[Z^2] - \\mu^2 $$\n",
    "\n",
    "$$\\mathbb{E}[(Z-\\mu)^2] = \\frac{(2+1)!}{4^2} - \\frac{1}{4} = \\boxed{\\frac{1}{8}}$$\n",
    "\n",
    "Third central moment:\n",
    "\n",
<<<<<<< HEAD
    "$$\\mathbb{E}[(Z-\\mu)^3] = \\sum_{n=0}^3 {{3} \\choose {n}} (-\\mu)^{3-n} \\mathbb{E}[Z^n] = \\sum_{n=0}^3 \\frac{3!}{n!(3-n)!} \\left(\\frac{-1}{2}\\right)^{3-n} \\frac{(n+1)!}{4^n} = \\sum_{n=0}^3 \\frac{3!}{(3-n)!} \\left(\\frac{-1}{2}\\right)^{3-n} \\frac{(n+1)}{4^n} = \\sum_{n=0}^3 (-1)^{n+1} \\frac{3!}{(3-n)!} \\frac{n+1}{2^{n+3}}$$\n",
    "\n",
=======
    "$$\\mathbb{E}[(Z-\\mu)^3] = \\sum_{n=0}^3 {{3} \\choose {n}} (-\\mu)^{3-n} \\mathbb{E}[Z^n] = \\sum_{n=0}^3 \\frac{3!}{n!(3-n)!} \\left(\\frac{-1}{2}\\right)^{3-n} \\frac{(n+1)!}{4^n} = \\sum_{n=0}^3 \\frac{3!}{(3-n)!} \\left(\\frac{-1}{2}\\right)^{3-n} \\frac{(n+1)}{4^n} = \\sum_{n=0}^3 (-1)^{n+1} \\frac{3!}{(3-n)!} \\frac{n+1}{2^{n+3}}$$"
   ]
  },
  {
   "cell_type": "markdown",
   "metadata": {},
   "source": [
>>>>>>> 7399c69aaf07cca043f6a11523142fe918391e2f
    "$$\\mathbb{E}[(Z-\\mu)^3] = -1 \\cdot \\frac{1}{8} + 3 \\cdot \\frac{2}{16} - 3 \\cdot \\frac{3}{32} + 1 \\cdot \\frac{4}{64} = \\boxed{\\frac{1}{16}}$$\n",
    "\n",
    "Fourth central moment, similarly:\n",
    "\n",
    "$$\\mathbb{E}[(Z-\\mu)^4] = \\sum_{n=0}^4 {{4} \\choose {n}} (-\\mu)^{4-n} \\mathbb{E}[Z^n] = \\sum_{n=0}^4 (-1)^n \\frac{4!}{(4-n)!} \\frac{n+1}{2^{n+4}} = \\boxed{\\frac{3}{32}}$$\n",
    "\n",
    "e. \n",
    "\n",
<<<<<<< HEAD
    "Let $Z_N = X_1 + X_2 + ... + X_N$, where the $X_i$'s are i.i.d. with pdf $f_X(x)$.\n",
    "\n",
=======
    "Let $Z_N = X_1 + X_2 + ... + X_N$, where the $X_i$'s are i.i.d. with pdf $f_X(x)$."
   ]
  },
  {
   "cell_type": "markdown",
   "metadata": {},
   "source": [
>>>>>>> 7399c69aaf07cca043f6a11523142fe918391e2f
    "We already know $f_{Z_1}(x) = 4 e^{-4x}$ and $f_{Z_2}(x) = 16 x e^{-4x}$.\n",
    "\n",
    "Then when $n = 3$:\n",
    "\n",
    "$$f_{Z_3}(z) = \\int_{-\\infty}^{\\infty} f_X(x) f_{Z_2}(z - x) dx = \\int_{0}^{z} 4 e^{-4x} 16 (z-x) e^{-4(z-x)} dx = \\frac{4^3}{2!} z^2 e^{-4z}, \\quad z \\geq 0$$\n",
    "\n",
    "This pattern continues, such that:\n",
    "\n",
    "$$\\boxed{f_{Z_N}(x) = \\frac{4^N}{(N-1)!} x^{N-1} e^{-4x} = \\frac{4^N}{\\Gamma(N)} x^{N-1} e^{-4x}, \\quad x \\geq 0}$$\n",
    "\n",
    "This is a Gamma distribution: $\\boxed{Z_N \\sim \\text{Gamma}(N, 4)}$\n",
    "\n",
    "CDF and moments?"
   ]
  },
  {
   "cell_type": "markdown",
   "metadata": {},
   "source": [
    "### 15. (in class)\n",
    "\n",
    "$$h_0 = a - bi = \\text{ retention capacity}, \\quad 0 \\leq i \\leq \\frac{a}{b}; \\quad h_0 = 0, \\quad \\text{o.w.}$$\n",
    "\n",
    "$$h_A = \\text{ actual retention}$$\n",
    "\n",
    "Assume $i \\sim Exp$, $h \\sim Gamma$.\n",
    "\n",
    "When $h < h_0(i)$, $h_A = h$ and when $h \\geq h_0(i)$, $h_A = h_0(i)$.\n",
    "\n",
    "$$\\mathbb{E}[h_A] = \\int_{-\\infty}^{\\infty} \\int_{-\\infty}^{\\infty} h_A \\, f_H(h) f_I(i) \\, di \\, dh = \\int_0^{\\frac{a}{b}} \\int_0^{a-bi} h \\, f_H(h) f_I(i) \\, dh \\, di + \\int_0^{\\frac{a}{b}} \\int_{a-bi}^{\\infty} (a - bi) \\, f_H(h) f_I(i) \\, di \\, dh$$\n",
    "\n",
    "*(Compute integrals numerically)*"
   ]
  },
  {
   "cell_type": "markdown",
   "metadata": {},
   "source": [
    "### 16.\n",
    "\n",
    "a.\n",
    "\n",
    "$$\\varphi_X(u) = \\frac{\\sin(u)}{u} = \\mathbb{E}[e^{iux}] = \\int_{-\\infty}^{\\infty} e^{iux} f_X(x) dx$$\n",
    "\n",
    "Then $f_X(x)$ is the inverse Fourier transform of $\\varphi_X(u)$:\n",
    "\n",
<<<<<<< HEAD
    "$$f_X(x) = \\frac{1}{2\\pi} \\int_{-\\infty}^{\\infty} e^{-iux} \\frac{\\sin(u)}{u} du = \\frac{1}{2\\pi} \\int_{-\\infty}^{\\infty} (\\cos(-ux) + i \\sin(-ux)) \\frac{\\sin(u)}{u} du $$\n",
=======
    "$$f_X(x) = \\frac{1}{2\\pi} \\int_{-\\infty}^{\\infty} e^{-iux} \\frac{\\sin(u)}{u} du = \\frac{1}{2\\pi} \\int_{-\\infty}^{\\infty} (\\cos(ux) - i \\sin(ux)) \\frac{\\sin(u)}{u} du $$\n",
>>>>>>> 7399c69aaf07cca043f6a11523142fe918391e2f
    "\n",
    "b. Find $\\varphi_X(u)$ for exponential, uniform, and Gaussian r.v.'s.\n",
    "\n",
    "expoential:\n",
    "\n",
    "uniform:\n",
    "\n",
    "Gaussian:\n",
    "\n",
    "c.\n",
    "\n",
    "$$\\varphi_X(u) = \\frac{\\lambda^2}{\\lambda^2 + u^2}$$\n",
    "\n",
    "$$\\mu = \\mathbb{E}[X] = \\frac{1}{i} \\frac{\\partial \\varphi_X(u)}{\\partial u} \\Big|_{u=0}$$\n",
    "\n",
    "First central moment is always zero: $\\mathbb{E}[(X-\\mu)^1] = 0$\n",
    "\n",
    "Second central moment:\n",
    "\n",
    "$$\\mathbb{E}[(X-\\mu)^2] = \\mathbb{E}[X^2] - \\mu^2 = $$\n",
    "\n",
    "Third central moment:\n",
    "\n",
    "$$\\mathbb{E}[(X-\\mu)^3] = $$\n",
    "\n",
    "Fourth central moment:\n",
    "\n",
    "$$\\mathbb{E}[(X-\\mu)^4] = $$"
   ]
  },
  {
   "cell_type": "markdown",
   "metadata": {},
   "source": [
    "### 17.\n",
    "\n",
    "a.\n",
    "\n",
    "$$\\int_{-\\infty}^{\\infty} f_X(x) dx = \\frac{1}{2}k + k = \\frac{3}{2}k = 1 \\quad \\rightarrow \\quad \\boxed{k = \\frac{2}{3}}$$\n",
    "\n",
    "b.\n",
    "\n",
    "$$F_X(x) = \\int_{-\\infty}^x f_X(x) dx$$\n",
    "\n",
    "$$\\boxed{F_X(x) = \\frac{x^2}{3}, \\quad 0 \\leq x \\leq 1; \\quad F_X(x) = \\frac{1}{3}(2x-1), \\quad 1 \\leq x \\leq 2; \\quad F_X(x) = 0, \\quad \\text{o.w.}}$$\n",
    "\n",
    "c. The median $m$ satisfies the following:\n",
    "\n",
    "$$\\int_{-\\infty}^{m} f_X(x) dx = F_X(m) = \\frac{1}{2} \\quad \\rightarrow \\quad \\boxed{m = \\frac{5}{4}}$$\n",
    "\n",
    "Similarly, the lower quartile $q_l$ satisfies:\n",
    "\n",
    "$$F_X(q_l) = \\frac{1}{4} \\quad \\rightarrow \\quad \\boxed{q_l = \\frac{\\sqrt{3}}{2}}$$\n",
    "\n",
    "And for the upper quartile $q_u$:\n",
    "\n",
    "$$F_X(q_u) = \\frac{3}{4} \\quad \\rightarrow \\quad \\boxed{q_u = \\frac{13}{8}}$$"
   ]
  },
  {
   "cell_type": "markdown",
   "metadata": {},
   "source": [
    "### 18. Exercise 2.32\n",
    "\n",
    "a. We are given the pdf of $Z$:\n",
    "\n",
    "$$f_Z(z) = \\frac{2 \\lambda}{d(\\lambda d + 2)} z, \\quad 0 < z < d; \\quad \\frac{2 \\lambda}{\\lambda d + 2} e^{-\\lambda (z-d)}, \\quad z \\geq d$$\n",
    "\n",
    "We are also given that $Y$ is a function of $Z$, namely:\n",
    "\n",
    "$$Y = Z, \\quad 0 < Z < d$$\n",
    "\n",
    "$$Y = d, \\quad d \\leq Z < c + d$$\n",
    "\n",
    "$$Y = Z - c, \\quad Z \\geq c + d$$\n",
    "\n"
   ]
  },
  {
   "cell_type": "markdown",
   "metadata": {
    "collapsed": true
   },
   "source": [
    "To show that $f_Z(z)$ is properly defined, the following statements must be true:\n",
    "\n",
    "$$f_Z(z) \\geq 0 \\quad \\forall \\, z \\in \\mathbb{R}$$\n",
    "\n",
    "$$\\int_{-\\infty}^{\\infty} f_Z(z) dz = 1$$\n",
    "\n",
    "Let's check:\n",
    "\n",
    "$$\\int_{-\\infty}^{\\infty} f_Z(z) dz = \\int_0^d \\frac{2 \\lambda}{d(\\lambda d + 2)} z dz + \\int_d^{\\infty} \\frac{2 \\lambda}{\\lambda d + 2} e^{-\\lambda (z-d)} dz$$\n",
    "\n",
    "$$= \\frac{\\lambda d}{\\lambda d + 2} + \\left[ \\frac{-2}{\\lambda d + 2} e^{-\\lambda (z-d)} \\right] \\Big|_{z=d}^{\\infty} = \\frac{\\lambda d}{\\lambda d + 2} + \\frac{2}{\\lambda d + 2} = 1$$\n",
    "\n",
    "So it checks out.\n",
    "\n",
    "A plot of the distribution for $\\lambda = d =1$:"
   ]
  },
  {
   "cell_type": "code",
   "execution_count": 13,
   "metadata": {},
   "outputs": [
    {
     "data": {
      "image/png": "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\n",
      "text/plain": [
       "<Figure size 1152x576 with 1 Axes>"
      ]
     },
     "metadata": {
      "needs_background": "light"
     },
     "output_type": "display_data"
    }
   ],
   "source": [
    "fig, ax = plt.subplots(figsize=(16,8))\n",
    "\n",
    "x = np.linspace(0,4, 1000)\n",
    "y = np.piecewise(x, [x<1, x >= 1], [lambda x: 2.0/3*x, lambda x: 2.0/3*np.e**(1-x)])\n",
    "\n",
    "ax.plot(x, y)\n",
    "ax.grid()\n",
    "ax.set_title(r'$f_Z(z)$')\n",
    "ax.set_xlabel(r'$z$')\n",
    "ax.set_xlim(0, 4)\n",
    "ax.set_ylim(0, 0.7)\n",
    "plt.show()"
   ]
  },
  {
   "cell_type": "markdown",
   "metadata": {},
   "source": [
    "b. Find $F_Y(y)$.\n",
    "\n",
    "For $0 < y < d$:\n",
    "\n",
    "$$F_Y(y) = \\int_{0}^{y} \\frac{2 \\lambda}{d(\\lambda d + 2)} z dz = \\boxed{\\frac{\\lambda y^2}{d(\\lambda d + 2)}}$$\n",
    "\n",
    "For $y = d$:\n",
    "\n",
    "$$F_Y(y) = \\frac{\\lambda d}{\\lambda d + 2} + \\int_d^{c+d} \\frac{2 \\lambda}{\\lambda d + 2} e^{-\\lambda (z-d)} dz = \\boxed{1 - \\frac{2}{\\lambda d + 2} e^{-\\lambda c}} $$\n",
    "\n",
    "For $d < y < \\infty$:\n",
    "\n",
    "$$F_Y(y) =  \\frac{\\lambda d}{\\lambda d + 2} + \\int_d^{y+c} \\frac{2 \\lambda}{\\lambda d + 2} e^{-\\lambda (z-d)} dz = \\frac{\\lambda d}{\\lambda d + 2} + \\left[ \\frac{-2}{\\lambda d + 2} e^{-\\lambda (z-d)} \\right] \\Big|_{z=d}^{y+c} = \\boxed{1 - \\frac{2}{\\lambda d +2} e^{-\\lambda (y+c-d)}}$$"
   ]
  },
  {
   "cell_type": "code",
   "execution_count": null,
   "metadata": {},
   "outputs": [],
   "source": []
  }
 ],
 "metadata": {
  "kernelspec": {
   "display_name": "Python 2",
   "language": "python",
   "name": "python2"
  },
  "language_info": {
   "codemirror_mode": {
    "name": "ipython",
    "version": 2
   },
   "file_extension": ".py",
   "mimetype": "text/x-python",
   "name": "python",
   "nbconvert_exporter": "python",
   "pygments_lexer": "ipython2",
   "version": "2.7.11"
  }
 },
 "nbformat": 4,
 "nbformat_minor": 1
}

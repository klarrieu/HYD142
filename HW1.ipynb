{
 "cells": [
  {
   "cell_type": "markdown",
   "metadata": {},
   "source": [
    "## HYD 142 HW \\#1\n",
    "\n",
    "Kenneth Larrieu"
   ]
  },
  {
   "cell_type": "code",
   "execution_count": 2,
   "metadata": {
    "collapsed": true
   },
   "outputs": [],
   "source": [
    "import numpy as np\n",
    "import pandas as pd\n",
    "import matplotlib.pyplot as plt\n",
    "%matplotlib inline"
   ]
  },
  {
   "cell_type": "markdown",
   "metadata": {},
   "source": [
    "### 1. Exercise 1.6"
   ]
  },
  {
   "cell_type": "code",
   "execution_count": 6,
   "metadata": {},
   "outputs": [
    {
     "name": "stdout",
     "output_type": "stream",
     "text": [
      "means:\n",
      "discharge: 13352.941176\n",
      "recharge: 13311.764706\n",
      "\n",
      "variances:\n",
      "discharge: 4542491.349481\n",
      "recharge: 4652802.768166\n",
      "\n",
      "standard deviations:\n",
      "discharge: 2131.312119\n",
      "recharge: 2157.035644\n",
      "\n",
      "correlation: 0.915616\n"
     ]
    }
   ],
   "source": [
    "discharge = [11300, 12800, 12700, 10400, 10800, 11500, 9900, 11900, 13000, 13700,\n",
    "             14100, 15200, 15100, 15400, 16000, 16500, 16700]\n",
    "recharge = [11400, 14600, 13600, 10100, 9900, 12200, 9700, 11800, 12700, 13600,\n",
    "            14600, 14900, 14300, 14200, 17400, 16400, 14900]\n",
    "\n",
    "n = len(discharge)\n",
    "\n",
    "# means\n",
    "d_mean = sum(discharge)*1.0/n\n",
    "r_mean = sum(recharge)*1.0/n\n",
    "\n",
    "print('means:\\ndischarge: %f\\nrecharge: %f\\n' % (d_mean, r_mean))\n",
    "\n",
    "# variances\n",
    "d_var = sum([(d-d_mean)**2 for d in discharge])*1.0/n\n",
    "r_var = sum([(r-r_mean)**2 for r in recharge])*1.0/n\n",
    "\n",
    "print('variances:\\ndischarge: %f\\nrecharge: %f\\n' % (d_var, r_var))\n",
    "\n",
    "# standard deviations\n",
    "d_std = np.sqrt(d_var)\n",
    "r_std = np.sqrt(r_var)\n",
    "\n",
    "print('standard deviations:\\ndischarge: %f\\nrecharge: %f\\n' % (d_std, r_std))\n",
    "\n",
    "# correlation\n",
    "covar = sum([(d-d_mean)*(r-r_mean) for d, r in zip(discharge, recharge)])*1.0/n\n",
    "corr = covar*1.0/(d_std*r_std)\n",
    "\n",
    "print('correlation: %f' % corr)"
   ]
  },
  {
   "cell_type": "markdown",
   "metadata": {},
   "source": [
    "### 2. Exercise 1.7"
   ]
  },
  {
   "cell_type": "code",
   "execution_count": 9,
   "metadata": {},
   "outputs": [
    {
     "name": "stdout",
     "output_type": "stream",
     "text": [
      "mean flood: 70438.620690 cfs\n",
      "flood variance: 2705297887.752676\n"
     ]
    },
    {
     "data": {
      "image/png": "[encoded data removed]",
      "text/plain": [
       "<matplotlib.figure.Figure at 0xa9ac320>"
      ]
     },
     "metadata": {},
     "output_type": "display_data"
    }
   ],
   "source": [
    "floods = {1907: 230000, 1956: 203000, 1928: 185000, 1938: 185000, 1940: 152000,\n",
    "          1909: 140000, 1960: 135000, 1906: 128000, 1914: 122000, 1904: 118000,\n",
    "          1953: 113000, 1942: 110000, 1943: 108000, 1958: 102000, 1903: 102000,\n",
    "          1927: 94000, 1951: 92100, 1936: 85400, 1941: 84200, 1957: 83100,\n",
    "          1915: 81400, 1905: 81000, 1917: 80400, 1930: 80100, 1911: 75400,\n",
    "          1919: 65900, 1925: 64300, 1921: 62300, 1945: 60100, 1952: 59200,\n",
    "          1935: 58600, 1926: 55700, 1954: 54800, 1946: 54400, 1950: 46400,\n",
    "          1947: 45600, 1916: 42400, 1924: 42400, 1902: 41000, 1948: 36700,\n",
    "          1922: 36400, 1959: 34500, 1910: 31000, 1918: 28200, 1944: 24900,\n",
    "          1920: 23400, 1932: 22600, 1923: 22400, 1934: 20300, 1937: 19200,\n",
    "          1913: 16800, 1949: 16800, 1912: 16400, 1908: 16300, 1929: 14000,\n",
    "          1952: 13000, 1931: 11600, 1933: 8860, 1939: 8080}\n",
    "\n",
    "# mean\n",
    "f_mean = sum(floods.values())*1.0/len(floods.values())\n",
    "\n",
    "print('mean flood: %f cfs' % f_mean)\n",
    "\n",
    "# variance\n",
    "f_var = sum([(f-f_mean)**2 for f in floods.values()])*1.0/len(floods.values())\n",
    "\n",
    "print('flood variance: %f'% f_var)\n",
    "\n",
    "# histogram and frequency distribution\n",
    "bins = xrange(0, 240000, 20000)\n",
    "fig, ax1 = plt.subplots(figsize=(16,8))\n",
    "ax1.set(title='Oroville Annual Flood Flow Histogram and Frequency Distribution')\n",
    "ax1.hist(floods.values(), bins)\n",
    "ax1.set_xlabel('Flood (cfs)')\n",
    "ax1.set_ylabel('Histogram\\nNumber of occurences per 20,000 cfs interval')\n",
    "ax2 = ax1.twinx()\n",
    "ax2.set_ylim(0, ax1.get_yticks()[-1]/len(floods.values()))\n",
    "ax2.set_yticks(np.linspace(0, ax2.get_yticks()[-1], len(ax1.get_yticks())))\n",
    "ax2.set_ylabel('Proportion of observations per 20,000 cfs interval\\nFrequency Distribution')\n",
    "plt.show()"
   ]
  },
  {
   "cell_type": "markdown",
   "metadata": {},
   "source": [
    "Reading the results from the frequency distribution, the relative frequency of a flow of 20,000 cfs or greater is $1-0.18 = \\boxed{0.82}$."
   ]
  },
  {
   "cell_type": "markdown",
   "metadata": {},
   "source": [
    "### 3. Exercise 1.9"
   ]
  },
  {
   "cell_type": "code",
   "execution_count": 42,
   "metadata": {},
   "outputs": [
    {
     "name": "stdout",
     "output_type": "stream",
     "text": [
      "mean flow rate: 886.454545\n",
      "flow rate variance: 189965.202479\n"
     ]
    }
   ],
   "source": [
    "flows = [1340, 1380, 1450, 618, 523, 508, 1220, 1780, 1090, 944, 397, 282, 353,\n",
    "         597, 995, 611, 985, 1430, 778, 1280, 1020, 1300, 1060, 412, 184, 1480,\n",
    "         876, 113, 516, 1000, 1890, 611, 409, 780, 674, 969, 870, 329, 458, 1556,\n",
    "         1217, 819, 576, 1324]\n",
    "\n",
    "# mean\n",
    "f_mean = sum(flows)*1.0/len(flows)\n",
    "\n",
    "print('mean flow rate: %f' % f_mean)\n",
    "\n",
    "# variance\n",
    "f_var = sum([(f-f_mean)**2 for f in flows])*1.0/len(flows)\n",
    "\n",
    "print('flow rate variance: %f' % f_var)"
   ]
  },
  {
   "cell_type": "markdown",
   "metadata": {},
   "source": [
    "A histogram would be useful for determining the likelihood of the annual maximum flow exceeding the proposed cofferdam height. The ultimate decision of which cofferdam height to build has to account for the tradeoff between the cost of building a higher cofferdam vs the chances of the cofferdam being fooded and incurring costs and project delays. I would make the choice that minimizes expected cost:\n",
    "\n",
    "expected cost for the 3 m cofferdam: $P(\\text{flow }>200 \\text{ cfs}) (\\$45,600) + P(\\text{flow }\\leq 200 \\text{ cfs}) (\\$15,600)$\n",
    "\n",
    "expected cost for the 4.5 m cofferdam: $P(\\text{flow }>550 \\text{ cfs}) (\\$38,600) + P(\\text{flow }\\leq 550 \\text{ cfs}) (\\$18,600)$\n",
    "\n",
    "Time comes into play because that will affect the probabilities in the above expressions, e.g. higher flows are more probable during the rainy season."
   ]
  },
  {
   "cell_type": "markdown",
   "metadata": {},
   "source": [
    "### 4. \n",
    "$$p_{X,Y}(1,1) = 0.1, \\, p_{X,Y}(1,2) = 0.2, \\, p_{X,Y}(1,3) = 0.1, \\, p_{X,Y}(2,1) = 0.2, \\, p_{X,Y}(2,2) = 0.3, \\, p_{X,Y}(2,3) = 0.1$$\n",
    "\n",
    "a.\n",
    "$$p_X(x) = \\sum_{i} p_{X,Y}(x, y_i)$$\n",
    "$$p_X(1) = p_{X,Y}(1,1)+p_{X,Y}(1,2)+p_{X,Y}(1,3) = 0.1+0.2+0.1$$\n",
    "$$p_X(2) = p_{X,Y}(2,1)+p_{X,Y}(2,2)+p_{X,Y}(2,3) = 0.2+0.3+0.1$$\n",
    "$$\\boxed{p_X(1) = 0.4, \\, p_X(2) = 0.6}$$\n",
    "    \n",
    "Similarly,\n",
    "\n",
    "$$p_Y(y) = \\sum_i p_{X,Y}(x_i, y)$$\n",
    "$$\\boxed{p_Y(1) = 0.3, \\, p_Y(2) = 0.5, \\, p_Y(3) = 0.2}$$\n",
    "\n",
    "b. \n",
    "$$p_{X|Y}(x|y) = \\frac{p_{X,Y}(x, y)}{p_Y(y)}$$\n",
    "\n",
    "$$\\boxed{p_{X|Y}(1|1) = \\frac{1}{3}, \\, p_{X|Y}(2|1) = \\frac{2}{3}}$$\n",
    "\n",
    "$$\\boxed{p_{X|Y}(1|2) = \\frac{2}{5},  \\, p_{X|Y}(2|2) = \\frac{3}{5}}$$\n",
    "\n",
    "$$\\boxed{p_{X|Y}(1|3) = \\frac{1}{2}, \\, \\, p_{X|Y}(2|3) = \\frac{1}{2}}$$\n",
    "\n",
    "$$p_{Y|X}(y|x) = \\frac{p_{X,Y}(x,y)}{p_{X}(x)}$$\n",
    "\n",
    "$$\\boxed{p_{Y|X}(1|1) = \\frac{1}{4}, \\, p_{Y|X}(2|1) = \\frac{1}{2}, \\, p_{Y|X}(3|1) = \\frac{1}{4}}$$\n",
    "\n",
    "$$\\boxed{p_{Y|X}(1|2) = \\frac{1}{3}, \\, p_{Y|X}(2|2) = \\frac{1}{2}, \\, p_{Y|X}(3|2) = \\frac{1}{6}}$$"
   ]
  },
  {
   "cell_type": "markdown",
   "metadata": {},
   "source": [
    "### 5.\n",
    "\n",
    "$S = 2X + Y$\n",
    "\n",
    "$f_X(x)=f_Y(x) = \\frac{1}{2}, 0 \\leq x \\leq 2$\n",
    "\n",
    "Therefore, $f_{X,Y}(x,y) = f_X(x) \\cdot f_Y(y) = \\frac{1}{4}, \\, 0 \\leq x \\leq 2, \\, 0 \\leq y \\leq 2$\n",
    "\n",
    "a. Find and sketch $f_S(s)$"
   ]
  },
  {
   "cell_type": "markdown",
   "metadata": {},
   "source": [
    "$$F_S(s) = P[S \\leq s] = P[2X+Y \\leq s] = P[Y \\leq -2X + s]$$\n",
    "\n",
    "For $0 \\leq s \\leq 2$,\n",
    "\n",
    "$$F_S(s) = \\int_{0}^{\\frac{s}{2}} \\int_{0}^{-2x+s} \\frac{1}{4} \\, dy \\, dx = \\int_{0}^{\\frac{s}{2}} (\\frac{-x}{2}+\\frac{s}{4})\\, dx = \\frac{s^2}{8} -\\frac{s^2}{16} = \\frac{s^2}{16}$$\n",
    "\n",
    "For $2 \\leq s \\leq 4$,\n",
    "\n",
    "$$F_S(s) = \\int_{0}^{2} \\int_{0}^{\\frac{s-y}{2}} \\frac{1}{4} \\, dx \\, dy = \\int_{0}^{2} \\frac{s-y}{8} \\, dy = \\frac{s-1}{4}$$\n",
    "\n",
    "For $4 \\leq s \\leq 6$,\n",
    "\n",
    "$$F_S(s) = \\int_{0}^{\\frac{s}{2}-1} \\int_{0}^{2} \\frac{1}{4} \\, dy \\, dx + \\int_{\\frac{s}{2}-1}^{2} \\int_{0}^{-2x+s} \\frac{1}{4} \\, dy \\, dx = \\frac{s}{4}-\\frac{1}{2} + \\frac{1}{4} \\int_{\\frac{s}{2}-1}^{2} (-2x+s) \\, dx = \\frac{1}{4}(3s-5-\\frac{s^2}{4})$$\n",
    "\n",
    "Then, $f_S(s) = \\frac{d F_S(s)}{ds}$:\n",
    "\n",
    "For $0 \\leq s \\leq 2$, $\\boxed{f_S(s) = \\frac{s}{8}}$.\n",
    "\n",
    "For $2 \\leq s \\leq 4$, $\\boxed{f_S(s) = \\frac{1}{4}}$.\n",
    "\n",
    "For $4 \\leq s \\leq 6$, $\\boxed{f_S(s) = \\frac{3}{4}-\\frac{s}{8}}$."
   ]
  },
  {
   "cell_type": "code",
   "execution_count": 54,
   "metadata": {},
   "outputs": [
    {
     "data": {
      "image/png": "[encoded data removed]",
      "text/plain": [
       "<matplotlib.figure.Figure at 0xaadcb38>"
      ]
     },
     "metadata": {},
     "output_type": "display_data"
    }
   ],
   "source": [
    "fig, ax = plt.subplots()\n",
    "\n",
    "s = np.linspace(0, 6, 100)\n",
    "f = [x*1.0/8 if 0 <= x < 2 else 1.0/4 if 2 <= x < 4 else 3.0/4-x*1.0/8 for x in s]\n",
    "ax.plot(s, f)\n",
    "ax.set(title=r'$f_S(s)$')\n",
    "ax.set_xlabel('s')\n",
    "ax.set_ylim(0, 0.3)\n",
    "ax.grid()\n",
    "plt.show()"
   ]
  },
  {
   "cell_type": "markdown",
   "metadata": {},
   "source": [
    "b. Find and sketch $f_{X|S}(x|s)$.\n",
    "\n",
    "$$F_{S \\,| \\, X}(s \\, | \\, x) = P(S \\leq s \\, | \\, X=x) = P(2X+Y \\leq s \\, | \\, X=x) = P(Y \\leq s-2x) = F_Y(s-2x)$$\n",
    "\n",
    "$$F_{S \\,| \\, X}(s \\, | \\, x) = \\frac{1}{2}(s-2x), \\quad 2x \\leq s \\leq 2x+2; \\quad 0, \\text{ otherwise}$$\n",
    "\n",
    "$$f_{S \\,| \\, X}(s \\, | \\, x) = \\frac{\\partial F_{S \\,| \\, X}(s \\, | \\, x)}{\\partial s} = \\frac{1}{2}, \\quad 2x \\leq s \\leq 2x+2; \\quad 0, \\text{ otherwise}$$\n",
    "\n",
    "Then using Bayes' theorem to get $f_{X \\, | \\, S}(x \\, | \\, s)$:\n",
    "\n",
    "$$f_{X \\, | \\, S}(x \\, | \\, s) = \\frac{f_{S \\,| \\, X}(s \\, | \\, x) f_X(x)}{f_S(s)}$$\n",
    "\n",
    "which is defined for $0 \\leq s \\leq 6$.\n",
    "\n",
    "For $0 < s \\leq 2$:\n",
    "\n",
    "$$\\boxed{f_{X \\, | \\, S}(x \\, | \\, s) = \\frac{2}{s}, \\quad 0 \\leq x \\leq \\frac{s}{2}, \\quad 0, \\text{ otherwise}}$$\n",
    "\n",
    "For $2 \\leq s \\leq 4$:\n",
    "\n",
    "$$\\boxed{f_{X \\, | \\, S}(x \\, | \\, s) = 1, \\quad \\frac{s}{2}-1 \\leq x \\leq \\frac{s}{2}, \\quad 0, \\text{ otherwise}}$$\n",
    "\n",
    "For $4 \\leq s < 6$:\n",
    "\n",
    "$$\\boxed{f_{X \\, | \\, S}(x \\, | \\, s) = \\frac{2}{6-s}, \\quad \\frac{s}{2}-1 \\leq x \\leq 2, \\quad 0, \\text{ otherwise}}$$\n",
    "\n",
    "For $s=0$:\n",
    "\n",
    "$$\\boxed{f_{X \\, | \\, S}(x \\, | \\, s) = \\delta(x)}$$\n",
    "\n",
    "For $s=6$:\n",
    "\n",
    "$$\\boxed{f_{X \\, | \\, S}(x \\, | \\, s) = \\delta(x-2)}$$\n",
    "\n",
    "where $\\delta(x)$ is the Dirac delta function.\n",
    "\n",
    "From here we see that for $0<s<6$, $f_{X \\, | \\, S}(x \\, | \\, s)$ has a uniform distribution over the interval of $x$ values that are possible for the given $s$. When $s=0$ and $s=6$, $x$ can only take one value ($0$ and $2$, correspondingly), and the density must integrate to $1$, so $f_{X \\, | \\, S}(x \\, | \\, s)$ can be thought of as a Dirac delta function.\n",
    "\n",
    "c. Find $\\mathbb{E}[X|S=1]$\n",
    "\n",
    "In the case where $s=1$,\n",
    "\n",
    "$$f_{X \\, | \\, S}(x \\, | \\, 1) = 2, \\quad 0 \\leq x \\leq \\frac{1}{2}, \\quad 0, \\text{ otherwise}$$\n",
    "\n",
    "Then,\n",
    "\n",
    "$$\\mathbb{E}[X \\, | \\, S=1] = \\int_{-\\infty}^{\\infty} x \\, f_{X \\, | \\, S}(x \\, | \\, 1) \\, dx = \\int_0^{\\frac{1}{2}} x \\cdot 2 \\, dx = \\boxed{\\frac{1}{4}}$$\n",
    "\n",
    "d. Find $\\mathbb{E}[X^2|S=1]$\n",
    "\n",
    "Similarly,\n",
    "\n",
    "$$\\mathbb{E}[X^2 \\, | \\, S=1] = \\int_{-\\infty}^{\\infty} x^2 \\, f_{X \\, | \\, S}(x \\, | \\, 1) \\, dx = \\int_0^{\\frac{1}{2}} x^2 \\cdot 2 \\, dx = \\boxed{\\frac{1}{12}}$$"
   ]
  },
  {
   "cell_type": "markdown",
   "metadata": {},
   "source": [
    "### 6. Exercise 2.7\n",
    "\n",
    "a. Since the events are independent, $P(\\text{earthquake}\\cap \\text{wind}) = P(\\text{earthquake}) \\cdot P(\\text{wind}) = 10^{-8} \\cdot 10^{-5} = \\boxed{10^{-13}}$. It is reasonable that building codes do not require both to be accounted for, there is a $99.99$% chance of then not occuring in the same minute for $1000$ years.\n",
    "\n",
    "b. Since $P(\\text{earthquake}\\cap \\text{wind}) \\ll P(\\text{earthquake})$, and $P(\\text{earthquake}\\cap \\text{wind})\\ll P(\\text{wind})$, we can approximate:\n",
    "\n",
    "$P(\\text{earthquake}\\cup \\text{wind}) \\approx P(\\text{earthquake}) + P(\\text{wind}) = 10^{-8} + 10^{-5} = \\boxed{0.00001001 \\approx 10^{-5}}$. So this is essentially the same as the probability of high wind, since that is much more likely than an earthquake.\n",
    "\n",
    "c. Since each minute is independent, $P(\\text{no earthquake in first minute} \\cap \\text{no earthquake in second minute} \\cap \\text{...})= P(\\text{no earthquake in first minute}) \\cdot P(\\text{no earthquake in second minute})\\text{...}$. This is equal to $P(\\text{no earthquake in one minute})^n$, where $n$ is the total number of minutes. Then,\n",
    "\n",
    "$$\\boxed{P(\\text{no earthquakes in one year}) = (1-10^{-8})^{525,600} = 0.995}$$\n",
    "\n",
    "$$\\boxed{P(\\text{no earthquakes in 100 years}) = (1-10^{-8})^{52,560,000} = 0.591}$$\n"
   ]
  },
  {
   "cell_type": "markdown",
   "metadata": {},
   "source": [
    "### 7. Exercise 2.14\n",
    "\n",
    "a. $P(\\text{first 4 days rainy}) = P(\\text{rain day 1}) P(\\text{rain day 2 } | \\text{ rain day 1}) P(\\text{rain day 3 } | \\text{ rain day 1 } \\cap \\text{ rain day 2}) P(\\text{rain day 4 } | \\text{ rain day 1 } \\cap \\text{ rain day 2 } \\cap \\text{ rain day 3}) = \\frac{10}{80} \\cdot \\frac{10}{50} \\cdot \\frac{10}{50} \\cdot \\frac{10}{50} = \\boxed{0.001}$\n",
    "\n",
    "b. $P(\\text{rain day 1}) P(\\text{dry day 2 } | \\text{ rain day 1}) P(\\text{dry day 3 } | \\text{ rain day 1 } \\cap \\text{ dry day 2}) P(\\text{dry day 4 } | \\text{ rain day 1 } \\cap \\text{ dry day 2 } \\cap \\text{ dry day 3}) = \\frac{10}{80} \\cdot \\frac{40}{50} \\cdot \\frac{90}{100} \\cdot \\frac{90}{100} = \\boxed{0.081}$"
   ]
  },
  {
   "cell_type": "markdown",
   "metadata": {},
   "source": [
    "### 8.\n",
    "\n",
    "a. $P(k \\text{ marked }| \\, m \\text{ picked}) = \\frac{P(k \\text{ marked } \\cap \\, m \\text{ picked})}{P(m \\text{ picked})} = \\boxed{\\frac{{{{n} \\choose {k}}} {{{N-n} \\choose {m-k}}}}{{{N} \\choose {m}}}}$\n",
    "\n",
    "b. This is just asking for $P(k \\geq 1 \\text{ marked } | \\, m \\text{ picked})$, in the case where $N=1000$, $n=100$, and $m=10$.\n",
    "\n",
    "$$\\sum_{k=1}^{10} \\frac{{{{100} \\choose {k}}}{{{900} \\choose {10-k}}}}{{{1000} \\choose {10}}} = \\boxed{0.653}$$"
   ]
  },
  {
   "cell_type": "markdown",
   "metadata": {},
   "source": [
    "### 9.\n",
    "\n",
    "a. This is a geometric distribution: $p_X(x) = (1-0.0186)^{x-1} (0.0186)$. This implies: \n",
    "$$\\boxed{F_X(x) = \\sum_{k=1}^{x} (1-0.0186)^{k-1} (0.0186)}$$\n",
    "\n",
    "b.\n",
    "\n",
    "$$P(X < 10) = F_X(9) = \\sum_{k=1}^{9} (1-0.0186)^{k-1} (0.0186)=\\boxed{0.156}$$\n",
    "\n",
    "c.\n",
    "\n",
    "$$P(X < 20) = F_X(19) = \\sum_{k=1}^{19} (1-0.0186)^{k-1} (0.0186)=\\boxed{0.300}$$\n",
    "\n",
    "d.\n",
    "\n",
    "$$P(X \\leq 52) = F_X(52) = \\sum_{k=1}^{52} (1-0.0186)^{k-1} (0.0186)=\\boxed{0.623}$$\n",
    "\n",
    "e.\n",
    "\n",
    "$$P(X \\leq 104) = F_X(104) = \\sum_{k=1}^{104} (1-0.0186)^{k-1} (0.0186)=\\boxed{0.858}$$"
   ]
  },
  {
   "cell_type": "markdown",
   "metadata": {},
   "source": [
    "### 10.\n",
    "\n",
    "$$Z = X + Y$$\n",
    "\n",
    "$$Var(X+Y) = Var(Z) = \\mathbb{E}[(Z-\\mu_Z)^2] = \\mathbb{E}[Z^2-2Z\\mu_Z+\\mu_Z^2] = \\mathbb{E}[Z^2]-2\\mu_Z\\mathbb{E}[Z]+\\mu_Z^2$$\n",
    "\n",
    "Since the expectation value operator is linear. Substituting $\\mu_Z=\\mu_X+\\mu_Y$ and $Z = X + Y$ yields\n",
    "\n",
    "$$\\mathbb{E}[X^2+2XY+Y^2] - 2(\\mu_X+\\mu_Y)\\mathbb{E}[X+Y]+(\\mu_X+\\mu_Y)^2 = \\mathbb{E}[X^2]+2\\mathbb{E}[XY]+\\mathbb{E}[Y^2]-2\\mu_X^2-2\\mu_Y^2-4\\mu_X\\mu_Y + \\mu_X^2+\\mu_Y^2+2\\mu_X\\mu_Y$$"
   ]
  },
  {
   "cell_type": "markdown",
   "metadata": {},
   "source": [
    "$$=\\mathbb{E}[X^2] + 2\\mathbb{E}[XY] + \\mathbb{E}[Y^2] - (\\mu_X^2+\\mu_Y^2+2\\mu_X\\mu_Y)$$\n",
    "\n",
    "$$=(\\mathbb{E}[X^2]-\\mu_X^2) + (\\mathbb{E}[Y^2] - \\mu_Y^2) + 2(\\mathbb{E}[XY] - \\mu_X\\mu_Y) = Var(X) + Var(Y) + 2Cov(X, Y)$$\n",
    "\n",
    "Since $X$ and $Y$ are independent, $Cov(X, Y) = 0$, therefore $\\boxed{Var(X+Y) = Var(X) + Var(Y)}$."
   ]
  },
  {
   "cell_type": "markdown",
   "metadata": {},
   "source": [
    "### 11.\n",
    "\n",
    "a. Take $R = $ it rains, $P = $ rain predicted, $U = $ takes umbrella. We are given that:\n",
    "\n",
    "$$P(R) = P(R^c) = \\frac{1}{2}$$\n",
    "\n",
    "$$P(R | P) = P(R^c | P^c) = \\frac{2}{3}, \\quad\\text{ thus }P(R^c| P) = P(R| P^c) = \\frac{1}{3}$$\n",
    "\n",
    "$$P(U | P) = 1, \\quad P(U | P^c) = \\frac{1}{3}; \\quad\\text{ thus }P(U^c| P) = 0, \\quad P(U^c | P^c) = \\frac{2}{3}$$\n",
    "\n",
    "Find $P(U^c | R)$."
   ]
  },
  {
   "cell_type": "markdown",
   "metadata": {},
   "source": [
    "$$P(P) = P(P | R) \\cdot P(R) + P(P | R^c) \\cdot P(R^c)$$\n",
    "\n",
    "$$P(P | R) = \\frac{P(R | P) \\cdot P(P)}{P(R)}$$\n",
    "\n",
    "$$P(P | R^c) = \\frac{P(R^c | P) \\cdot P(P)}{P(R^c)}$$\n",
    "\n",
    "Combining yields\n",
    "\n",
    "$$P(P) = P(R | P) \\cdot P(P) + P(P | R^c) \\cdot P(R^c)$$\n",
    "\n",
    "b. Find $P(U | R^c)$."
   ]
  },
  {
   "cell_type": "code",
   "execution_count": null,
   "metadata": {
    "collapsed": true
   },
   "outputs": [],
   "source": []
  },
  {
   "cell_type": "markdown",
   "metadata": {},
   "source": [
    "### 12. Exercise 2.10 parts (a) - (d)\n",
    "\n"
   ]
  },
  {
   "cell_type": "markdown",
   "metadata": {},
   "source": [
    "### 13.\n",
    "\n",
    "a. \n",
    "\n",
    "$$P(X \\leq 1) = F_X(1) = 1 - e^{-4} = 0.98168$$\n",
    "\n",
    "$$P(X \\geq 2) = 1 - F_X(2) = e^{-8} = 0.000335$$\n",
    "\n",
    "$$P(X = 2) = 0 $$ since the distribution is continuous.\n",
    "\n",
    "b.\n",
    "\n",
    "$$f_X(x) = \\frac{\\partial F_X(x)}{\\partial x} = 4 e^{-4x}, \\quad x \\geq 0$$\n",
    "\n",
    "c.\n",
    "\n",
    "$$p_Y(0) = F_X(2) = 1 - e^{-8} = 0.999665$$\n",
    "\n",
    "$$p_Y(1) = 1 - F_X(2) = e^{-8} = 0.000335$$\n",
    "\n",
    "d.\n",
    "\n",
    "$$Z = X_1 + X_2$$\n",
    "\n",
    "$$f_Z(z) = \\int_0^{z} f_X(x) f_X(z-x) dx = 16 \\int_0^{z} e^{-4x} e^{-4(z-x)} dx = 16 \\int_0^{z} e^{-4z} dx = 16 \\, z \\, e^{-4z}, \\quad z \\geq 0$$\n",
    "\n",
    "$$F_Z(z) = \\int_0^z 16 \\, z \\, e^{-4z} dz = -4 z e^{-4z} + \\int_0^z 4 e^{-4z} dz = 1 - e^{-4z}(4z + 1), \\quad z \\geq 0$$\n",
    "\n",
    "$$\\varphi_Z(u) = \\int_0^\\infty e^{iuz} f_Z(z) dz = 16 \\int_0^\\infty z e^{(iu - 4)z} dz = \\frac{1}{iu - 4} z e^{(iu - 4)z} - \\int_0^\\infty \\frac{1}{iu - 4} z e^{(iu - 4)z}$$\n",
    "\n",
    "$$E(Z) = \\int_0^\\infty z \\, f_Z(z) dz = $$\n",
    "\n",
    "$$E((Z-\\mu)^2) = \\int_0^\\infty (z - \\mu)^2 \\, f_Z(z) dz = $$\n",
    "\n",
    "$$E((Z-\\mu)^3) = \\int_0^\\infty (z - \\mu)^3 \\, f_Z(z) dz = $$\n",
    "\n",
    "$$E((Z-\\mu)^4) = \\int_0^\\infty (z - \\mu)^4 \\, f_Z(z) dz = $$"
   ]
  },
  {
   "cell_type": "code",
   "execution_count": 7,
   "metadata": {},
   "outputs": [
    {
     "data": {
      "text/plain": [
       "0.9996645373720975"
      ]
     },
     "execution_count": 7,
     "metadata": {},
     "output_type": "execute_result"
    }
   ],
   "source": [
    "1-np.e**-8"
   ]
  },
  {
   "cell_type": "markdown",
   "metadata": {},
   "source": [
    "### 15. (in class)\n",
    "\n",
    "$$h_0 = a - bi = \\text{ retention capacity}, \\quad 0 \\leq i \\leq \\frac{a}{b}; \\quad h_0 = 0, \\quad \\text{o.w.}$$\n",
    "\n",
    "$$h_A = \\text{ actual retention}$$\n",
    "\n",
    "Assume $i \\sim Exp$, $h \\sim Gamma$.\n",
    "\n",
    "Split into cases when $h < h_0(i)$ ($h_A = h$) and when $h \\geq h_0(i)$ ($h_A = h_0(i)$)\n",
    "\n",
    "$$\\mathbb{E}[h_A] = \\int_{-\\infty}^{\\infty} \\int_{-\\infty}^{\\infty} h_A \\, f_H(h) f_I(i) \\, di \\, dh = \\int \\int h \\, f_H(h) f_I(i) \\, di \\, dh + \\int \\int (a - bi) \\, f_H(h) f_I(i) \\, di \\, dh$$\n",
    "\n",
    "*(Compute integrals numerically)*"
   ]
  },
  {
   "cell_type": "markdown",
   "metadata": {},
   "source": [
    "### 16.\n",
    "\n",
    "a.\n",
    "\n",
    "$$\\varphi_X(u) = \\frac{\\sin(u)}{u} = \\mathbb{E}[e^{iux}] = \\int_{-\\infty}^{\\infty} e^{iux} f_X(x) dx$$\n",
    "\n",
    "Then $f_X(x)$ is the inverse Fourier transform of $\\varphi_X(u)$:\n",
    "\n",
    "$$f_X(x) = \\frac{1}{2\\pi} \\int_{-\\infty}^{\\infty} e^{-iux} \\frac{\\sin(u)}{u} du = \\frac{1}{2\\pi} \\int_{-\\infty}^{\\infty} (\\cos(-ux) + i \\sin(-ux)) \\frac{\\sin(u)}{u} du $$\n",
    "\n"
   ]
  },
  {
   "cell_type": "markdown",
   "metadata": {},
   "source": [
    "### 17.\n",
    "\n",
    "a.\n",
    "\n",
    "$$\\int_{-\\infty}^{\\infty} f_X(x) dx = \\frac{1}{2}k + k = \\frac{3}{2}k = 1 \\quad \\rightarrow \\quad \\boxed{k = \\frac{2}{3}}$$\n",
    "\n",
    "b.\n",
    "\n",
    "$$F_X(x) = \\int_{-\\infty}^x f_X(x) dx$$\n",
    "\n",
    "$$\\boxed{F_X(x) = \\frac{x^2}{3}, \\quad 0 \\leq x \\leq 1; \\quad F_X(x) = \\frac{1}{3}(2x-1), \\quad 1 \\leq x \\leq 2; \\quad F_X(x) = 0, \\quad \\text{o.w.}}$$\n",
    "\n",
    "c. The median $m$ satisfies the following:\n",
    "\n",
    "$$\\int_{-\\infty}^{m} f_X(x) dx = F_X(m) = \\frac{1}{2} \\quad \\rightarrow \\quad \\boxed{m = \\frac{5}{4}}$$\n",
    "\n",
    "Similarly, the lower quartile $q_l$ satisfies:\n",
    "\n",
    "$$F_X(q_l) = \\frac{1}{4} \\quad \\rightarrow \\quad \\boxed{q_l = \\frac{\\sqrt{3}}{2}}$$\n",
    "\n",
    "And for the upper quartile $q_u$:\n",
    "\n",
    "$$F_X(q_u) = \\frac{3}{4} \\quad \\rightarrow \\quad \\boxed{q_u = \\frac{13}{8}}$$"
   ]
  },
  {
   "cell_type": "markdown",
   "metadata": {},
   "source": [
    "### 18. Exercise 2.32\n",
    "\n",
    "a. We are given the pdf of $Z$:\n",
    "\n",
    "$$f_Z(z) = \\frac{2 \\lambda}{d(\\lambda d + 2)} z, \\quad 0 < z < d; \\quad \\frac{2 \\lambda}{\\lambda d + 2} e^{-\\lambda (z-d)}, \\quad z \\geq d$$\n",
    "\n",
    "We are also given that $Y$ is a function of $Z$, namely:\n",
    "\n",
    "$$Y = Z, \\quad 0 < Z < d$$\n",
    "\n",
    "$$Y = d, \\quad d \\leq Z < c + d$$\n",
    "\n",
    "$$Y = Z - c, \\quad Z \\geq c + d$$\n",
    "\n"
   ]
  },
  {
   "cell_type": "markdown",
   "metadata": {
    "collapsed": true
   },
   "source": [
    "To show that $f_Z(z)$ is properly defined, the following statements must be true:\n",
    "\n",
    "$$f_Z(z) \\geq 0 \\quad \\forall \\, z \\in \\mathbb{R}$$\n",
    "\n",
    "$$\\int_{-\\infty}^{\\infty} f_Z(z) dz = 1$$\n",
    "\n",
    "Let's check:\n",
    "\n",
    "$$$$"
   ]
  },
  {
   "cell_type": "markdown",
   "metadata": {},
   "source": [
    "b. Find $F_Y(y)$.\n",
    "\n",
    "For $0 < y < d$:\n",
    "\n",
    "$$F_Y(y) = \\int_{0}^{y} \\frac{2 \\lambda}{d(\\lambda d + 2)} z dz$$"
   ]
  },
  {
   "cell_type": "code",
   "execution_count": null,
   "metadata": {
    "collapsed": true
   },
   "outputs": [],
   "source": []
  }
 ],
 "metadata": {
  "kernelspec": {
   "display_name": "Python 2",
   "language": "python",
   "name": "python2"
  },
  "language_info": {
   "codemirror_mode": {
    "name": "ipython",
    "version": 2
   },
   "file_extension": ".py",
   "mimetype": "text/x-python",
   "name": "python",
   "nbconvert_exporter": "python",
   "pygments_lexer": "ipython2",
   "version": "2.7.12"
  }
 },
 "nbformat": 4,
 "nbformat_minor": 1
}

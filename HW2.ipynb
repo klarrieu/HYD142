{
 "cells": [
  {
   "cell_type": "markdown",
   "metadata": {},
   "source": [
    "## HYD 142 HW \\#2\n",
    "\n",
    "Kenneth Larrieu"
   ]
  },
  {
   "cell_type": "markdown",
   "metadata": {},
   "source": [
    "### 10.\n",
    "\n",
    "$$Z = X + Y$$\n",
    "\n",
    "$$Var(X+Y) = Var(Z) = \\mathbb{E}[(Z-\\mu_Z)^2] = \\mathbb{E}[Z^2-2Z\\mu_Z+\\mu_Z^2] = \\mathbb{E}[Z^2]-2\\mu_Z\\mathbb{E}[Z]+\\mu_Z^2$$\n",
    "\n",
    "Since the expectation value operator is linear. Substituting $\\mu_Z=\\mu_X+\\mu_Y$ and $Z = X + Y$ yields\n",
    "\n",
    "$$\\mathbb{E}[X^2+2XY+Y^2] - 2(\\mu_X+\\mu_Y)\\mathbb{E}[X+Y]+(\\mu_X+\\mu_Y)^2$$\n",
    "\n",
    "$$= \\mathbb{E}[X^2]+2\\mathbb{E}[XY]+\\mathbb{E}[Y^2]-2\\mu_X^2-2\\mu_Y^2-4\\mu_X\\mu_Y + \\mu_X^2+\\mu_Y^2+2\\mu_X\\mu_Y$$"
   ]
  },
  {
   "cell_type": "markdown",
   "metadata": {},
   "source": [
    "$$=\\mathbb{E}[X^2] + 2\\mathbb{E}[XY] + \\mathbb{E}[Y^2] - (\\mu_X^2+\\mu_Y^2+2\\mu_X\\mu_Y)$$\n",
    "\n",
    "$$=(\\mathbb{E}[X^2]-\\mu_X^2) + (\\mathbb{E}[Y^2] - \\mu_Y^2) + 2(\\mathbb{E}[XY] - \\mu_X\\mu_Y) = Var(X) + Var(Y) + 2Cov(X, Y)$$\n",
    "\n",
    "Since $X$ and $Y$ are independent, $Cov(X, Y) = 0$, therefore $\\boxed{Var(X+Y) = Var(X) + Var(Y)}$."
   ]
  },
  {
   "cell_type": "markdown",
   "metadata": {},
   "source": [
    "### 11.\n",
    "\n",
    "a. Take $R =$ it rains, $F =$ rain forecasted, $U =$ takes umbrella. We are given that:\n",
    "\n",
    "$$P(R) = P(R^c) = \\frac{1}{2}$$\n",
    "\n",
    "$$P(R | F) = P(R^c | F^c) = \\frac{2}{3}, \\quad\\text{ thus }P(R^c| F) = P(R| F^c) = \\frac{1}{3}$$\n",
    "\n",
    "$$P(U | F) = 1, \\quad P(U | F^c) = \\frac{1}{3}; \\quad\\text{ thus }P(U^c| F) = 0, \\quad P(U^c | F^c) = \\frac{2}{3}$$\n",
    "\n",
    "Find $P(U^c | R)$."
   ]
  },
  {
   "cell_type": "markdown",
   "metadata": {},
   "source": [
    "$$P(R) = P(R|F)P(F) + P(R|F^c)(1-P(F)) = \\frac{2}{3}P(F) + \\frac{1}{3}(1-P(F)) = \\frac{1}{2}$$\n",
    "\n",
    "$$\\frac{1}{3}P(F) = \\frac{1}{6} \\quad \\rightarrow \\quad P(F) = \\frac{1}{2}, \\quad P(F^c) = \\frac{1}{2}$$\n",
    "\n",
    "$$P(U^c|R)P(R) = P(U^c \\cap R) = P(U^c \\cap R \\cap F) + P(U^c \\cap R \\cap F^c)$$\n",
    "\n",
    "$$P(U^c|R)P(R) = P(U^c | R \\cap F)P(R|F)P(F) + P(U^c | R \\cap F^c)P(R|F^c)P(F^c)$$\n",
    "\n",
    "Since $P(R) = P(F) = P(F^c) = \\frac{1}{2}$, we can divide by $\\frac{1}{2}$ on both sides, yielding:\n",
    "\n",
    "$$P(U^c|R) = P(U^c | R \\cap F)P(R|F) + P(U^c | R \\cap F^c)P(R | F^c)$$\n",
    "\n",
    "$$P(U^c|R) = 0 \\cdot \\frac{2}{3} + \\frac{2}{3} \\cdot \\frac{1}{3} = \\boxed{\\frac{2}{9}}$$\n",
    "\n",
    "\n",
    "b. Find $P(U | R^c)$.\n",
    "\n",
    "Similarly,\n",
    "\n",
    "$$P(U|R^c)P(R^c) = P(U | R^c \\cap F)P(R^c|F)P(F) + P(U | R^c \\cap F^c)P(R^c|F^c)P(F^c)$$\n",
    "\n",
    "Dividing both sides by $P(R^c) = P(F) = P(F^c) = \\frac{1}{2}$:\n",
    "\n",
    "$$P(U|R^c) = P(U | R^c \\cap F)P(R^c|F) + P(U | R^c \\cap F^c)P(R^c|F^c)$$\n",
    "\n",
    "$$P(U|R^c) = 1 \\cdot \\frac{1}{3} + \\frac{1}{3} \\cdot \\frac{2}{3} = \\boxed{\\frac{5}{9}}$$"
   ]
  },
  {
   "cell_type": "markdown",
   "metadata": {},
   "source": [
    "### 12. Exercise 2.10 parts (a) - (d)\n",
    "\n",
    "a. Take $M_1 =$ insufficient water supply, $D_i =$ water demand level. Then:\n",
    "\n",
    "$$P(M_1) = \\sum_{i=1}^3 P(M_1 | D_i) P(D_i) = 0 \\cdot 0.6 + 0.1 \\cdot 0.3 + 0.5 \\cdot 0.1 = \\boxed{0.21}$$\n",
    "\n",
    "b. For $D_2 = 150,000$ gd, we want $P(D_2 | M_1)$, the probability that $D_2$ \"caused\" insufficient water supply.\n",
    "\n",
    "$$P(D_2 | M_1) = \\frac{P(M_1 | D_2) P(D_2)}{P(M_1)} = \\frac{0.1 \\cdot 0.3}{0.21} = \\boxed{0.143}$$"
   ]
  },
  {
   "cell_type": "markdown",
   "metadata": {},
   "source": [
    "c. Take $M_2 =$ pump failure occurs. Then\n",
    "\n",
    "$$P(M_2) = \\sum_{i=1}^3 P(M_2|D_i)P(D_i) = \\sum_{i=1}^3 P(M_2)P(D_i) = P(M_2) \\sum_{i=1}^3 P(D_i) = P(M_2) \\cdot 1 = \\boxed{0.02} $$"
   ]
  },
  {
   "cell_type": "markdown",
   "metadata": {},
   "source": [
    "d. Take $M_3 =$ overload of purification plant, $F =$ failure occured. For each $M_i$, we want $P(M_i | F \\cap D_2)$. Applying Bayes' Theorem:\n",
    "\n",
    "$$P(M_i | F \\cap D_2) = \\frac{P(F | M_i \\cap D_2) P(M_i | D_2)}{P(F | D_2)} = \\frac{1 \\cdot P(M_i | D_2)}{P(F | D_2)}$$\n",
    "\n",
    "$$P(F | D_2) = P(F | M_1 \\cap D_2) P(M_1 | D_2) + P(F | M_2 \\cap D_2) P(M_2 | D_2) + P(F | M_3 \\cap D_2) P(M_3 | D_2)$$\n",
    "\n",
    "$$P(F | D_2) = P(M_1 | D_2) + P(M_2 | D_2) + P(M_3 | D_2) = 0.1 + 0.02 + 0 = 0.12$$\n",
    "\n",
    "$$P(M_1 | F \\cap D_2) = \\frac{P(F | M_1 \\cap D_2) P(M_1 | D_2)}{P(F | D_2)} = \\frac{0.1}{0.12} = \\boxed{\\frac{5}{6}}$$\n",
    "\n",
    "$$P(M_2 | F \\cap D_2) = \\frac{P(F | M_2 \\cap D_2) P(M_2 | D_2)}{P(F | D_2)} = \\frac{0.02}{0.12} = \\boxed{\\frac{1}{6}}$$\n",
    "\n",
    "$$P(M_3 | F \\cap D_2) = \\frac{P(F | M_3 \\cap D_2) P(M_3 | D_2)}{P(F | D_2)} = \\frac{1 \\cdot 0}{0.12} = \\boxed{0}$$"
   ]
  },
  {
   "cell_type": "markdown",
   "metadata": {},
   "source": [
    "### 13.\n",
    "\n",
    "a. \n",
    "\n",
    "$$\\boxed{P(X \\leq 1) = F_X(1) = 1 - e^{-4} = 0.98168}$$\n",
    "\n",
    "$$\\boxed{P(X \\geq 2) = 1 - F_X(2) = e^{-8} = 0.000335}$$\n",
    "\n",
    "$$\\boxed{P(X = 2) = 0} $$ since the distribution is continuous.\n",
    "\n",
    "b.\n",
    "\n",
    "$$\\boxed{f_X(x) = \\frac{\\partial F_X(x)}{\\partial x} = 4 e^{-4x}, \\quad x \\geq 0}$$\n",
    "\n",
    "c.\n",
    "\n",
    "$$\\boxed{p_Y(0) = F_X(2) = 1 - e^{-8} = 0.999665}$$\n",
    "\n",
    "$$\\boxed{p_Y(1) = 1 - F_X(2) = e^{-8} = 0.000335}$$\n",
    "\n",
    "d.\n",
    "\n",
    "$$Z = X_1 + X_2$$\n",
    "\n",
    "$$\\boxed{f_Z(z) = \\int_0^{z} f_X(x) f_X(z-x) dx = 16 \\int_0^{z} e^{-4x} e^{-4(z-x)} dx = 16 \\int_0^{z} e^{-4z} dx = 16 \\, z \\, e^{-4z}, \\quad z \\geq 0}$$\n",
    "\n",
    "$$\\boxed{F_Z(z) = \\int_0^z 16 \\, z \\, e^{-4z} dz = -4 z e^{-4z} + \\int_0^z 4 e^{-4z} dz = 1 - e^{-4z}(4z + 1), \\quad z \\geq 0}$$\n",
    "\n",
    "$$\\varphi_Z(u) = \\int_{-\\infty}^\\infty e^{iuz} f_Z(z) dz = 16 \\int_0^\\infty z e^{(iu - 4)z} dz = \\frac{16}{iu-4}z e^{(iu - 4)z} \\Big|_0^{\\infty} - \\frac{16}{iu - 4} \\int_0^\\infty e^{(iu - 4)z} dz$$\n",
    "\n",
    "$$\\varphi_Z(u) = \\frac{16}{(iu-4)^2}$$\n",
    "\n",
    "$$\\mu = \\mathbb{E}[Z] = \\frac{1}{i} \\frac{\\partial \\varphi_Z(u)}{\\partial u} \\Big|_{u=0} = \\frac{-32}{(iu-4)^3} \\Big|_{u=0} = \\frac{1}{2} $$\n",
    "\n",
    "We see the derivatives of $\\varphi_Z(u)$ follow a pattern:\n",
    "\n",
    "$$\\frac{\\partial^n \\varphi_Z(u)}{\\partial u^n} \\Big|_{u=0} = \\frac{(-1)^n i^n (n+1)! 16}{(iu-4)^{n+2}} \\Big|_{u=0} = \\frac{i^n (n+1)!}{4^n}$$\n",
    "\n",
    "Thus the moments become:\n",
    "\n",
    "$$\\mathbb{E}[Z^n] = \\frac{1}{i^n} \\frac{\\partial^n \\varphi_Z(u)}{\\partial u^n} \\Big|_{u=0} = \\frac{(n+1)!}{4^n} $$\n",
    "\n",
    "The first central moment is always zero:\n",
    "\n",
    "$$\\mathbb{E}[(Z-\\mu)^1] = \\mathbb{E}[Z] - \\mathbb{E}[\\mu] = \\mu - \\mu = \\boxed{0}$$\n",
    "\n",
    "Second central moment:\n",
    "\n",
    "$$\\mathbb{E}[(Z-\\mu)^2] = \\mathbb{E}[Z^2] - 2\\mu \\mathbb{E}[Z] + \\mu^2\\mathbb{E}[1] = \\mathbb{E}[Z^2] - \\mu^2 $$\n",
    "\n",
    "$$\\mathbb{E}[(Z-\\mu)^2] = \\frac{(2+1)!}{4^2} - \\frac{1}{4} = \\boxed{\\frac{1}{8}}$$\n",
    "\n",
    "Third central moment:\n",
    "\n",
    "$$\\mathbb{E}[(Z-\\mu)^3] = \\sum_{n=0}^3 {{3} \\choose {n}} (-\\mu)^{3-n} \\mathbb{E}[Z^n] = \\sum_{n=0}^3 \\frac{3!}{n!(3-n)!} \\left(\\frac{-1}{2}\\right)^{3-n} \\frac{(n+1)!}{4^n} =$$\n",
    "\n",
    "$$\\sum_{n=0}^3 \\frac{3!}{(3-n)!} \\left(\\frac{-1}{2}\\right)^{3-n} \\frac{(n+1)}{4^n} = \\sum_{n=0}^3 (-1)^{n+1} \\frac{3!}{(3-n)!} \\frac{n+1}{2^{n+3}}$$\n",
    "\n",
    "$$\\mathbb{E}[(Z-\\mu)^3] = -1 \\cdot \\frac{1}{8} + 3 \\cdot \\frac{2}{16} - 3 \\cdot \\frac{3}{32} + 1 \\cdot \\frac{4}{64} = \\boxed{\\frac{1}{16}}$$\n",
    "\n",
    "Fourth central moment, similarly:\n",
    "\n",
    "$$\\mathbb{E}[(Z-\\mu)^4] = \\sum_{n=0}^4 {{4} \\choose {n}} (-\\mu)^{4-n} \\mathbb{E}[Z^n] = \\sum_{n=0}^4 (-1)^n \\frac{4!}{(4-n)!} \\frac{n+1}{2^{n+4}} = \\boxed{\\frac{3}{32}}$$\n",
    "\n",
    "e. \n",
    "\n",
    "Let $Z_N = X_1 + X_2 + ... + X_N$, where the $X_i$'s are i.i.d. with pdf $f_X(x)$.\n",
    "\n",
    "We already know $f_{Z_1}(x) = 4 e^{-4x}$ and $f_{Z_2}(x) = 16 x e^{-4x}$.\n",
    "\n",
    "Then when $n = 3$:\n",
    "\n",
    "$$f_{Z_3}(z) = \\int_{-\\infty}^{\\infty} f_X(x) f_{Z_2}(z - x) dx = \\int_{0}^{z} 4 e^{-4x} 16 (z-x) e^{-4(z-x)} dx = \\frac{4^3}{2!} z^2 e^{-4z}, \\quad z \\geq 0$$\n",
    "\n",
    "This pattern continues, such that:\n",
    "\n",
    "$$\\boxed{f_{Z_N}(x) = \\frac{4^N}{(N-1)!} x^{N-1} e^{-4x} = \\frac{4^N}{\\Gamma(N)} x^{N-1} e^{-4x}, \\quad x \\geq 0}$$\n",
    "\n",
    "This is a Gamma distribution: $\\boxed{Z_N \\sim \\text{Gamma}(N, 4)}$\n",
    "\n",
    "CDF:\n",
    "\n",
    "$$\\boxed{F_{Z_N}(z) = \\frac{1}{\\Gamma(N)} \\gamma(N, 4z)}$$\n",
    "\n",
    "where $\\gamma{a, b}$ is the lower incomplete gamma function.\n",
    "\n",
    "moments:\n",
    "\n",
    "$$\\mathbb{E}[Z_N] = \\mu_{Z_N} = \\frac{N}{4}$$\n",
    "\n",
    "$$\\mathbb{E}[(Z_N -\\mu_{Z_N})^1] = \\boxed{0}$$\n",
    "\n",
    "$$\\mathbb{E}[(Z_N -\\mu_{Z_N})^2] = \\boxed{\\frac{N}{16}}$$\n",
    "\n",
    "$$\\mathbb{E}[(Z_N -\\mu_{Z_N})^3] = \\boxed{\\frac{2 N^{5/2}}{16^3}}$$\n",
    "\n",
    "$$\\mathbb{E}[(Z_N -\\mu_{Z_N})^4] = \\boxed{(\\frac{6}{N}+3)(\\frac{N}{16})^4}$$"
   ]
  },
  {
   "cell_type": "markdown",
   "metadata": {},
   "source": [
    "### 15.\n",
    "\n",
    "$$h_0 = a - bi = \\text{ retention capacity}, \\quad 0 \\leq i \\leq \\frac{a}{b}; \\quad h_0 = 0, \\quad \\text{o.w.}$$\n",
    "\n",
    "$$h_A = \\text{ actual retention}$$\n",
    "\n",
    "Assume $i \\sim Exp$, $h \\sim Gamma$.\n",
    "\n",
    "When $h < h_0(i)$, $h_A = h$ and when $h \\geq h_0(i)$, $h_A = h_0(i)$.\n",
    "\n",
    "$$\\mathbb{E}[h_A] = \\int_{-\\infty}^{\\infty} \\int_{-\\infty}^{\\infty} h_A \\, f_H(h) f_I(i) \\, dh \\, di = \\int_0^{\\frac{a}{b}} \\int_0^{a-bi} h \\, f_H(h) f_I(i) \\, dh \\, di + \\int_0^{\\frac{a}{b}} \\int_{a-bi}^{\\infty} (a - bi) \\, f_H(h) f_I(i) \\, dh \\, di$$\n",
    "\n",
    "Plugging in the pdfs $f_I(i) = \\lambda e^{-\\lambda i}$ and $f_H(h) = \\frac{\\beta^{\\alpha} h^{\\alpha - 1} e^{-\\beta h}}{\\Gamma(\\alpha)}$:\n",
    "\n",
    "\n",
    "\n",
    "$$\\mathbb{E}[h_A] = \\frac{\\lambda \\beta^{\\alpha}}{\\Gamma(\\alpha)} \\left( \\int_0^{\\frac{a}{b}} \\int_0^{a-bi} h \\, h^{\\alpha-1} e^{-(\\lambda i +\\beta h)} \\, dh \\, di + \\int_0^{\\frac{a}{b}} \\int_{a-bi}^{\\infty} (a - bi) \\, h^{\\alpha-1} e^{-(\\lambda i +\\beta h)} \\, dh \\, di \\right)$$"
   ]
  },
  {
   "cell_type": "markdown",
   "metadata": {},
   "source": [
    "$$\\mathbb{E}[h_A] = \\frac{\\lambda \\beta^{\\alpha}}{\\Gamma(\\alpha)} \\left(  \\int_0^{a} h^{\\alpha} e^{-\\beta h} \\int_0^{\\frac{a-h}{b}} e^{-\\lambda i} \\, di \\, dh + \\int_0^{\\infty}  h^{\\alpha-1} e^{-\\beta h} \\int_{\\frac{a-h}{b}}^{\\frac{a}{b}} (a - bi) \\, e^{-\\lambda i} \\, di \\, dh + \\int_0^{\\infty}  h^{\\alpha-1} e^{-\\beta h} \\int_{\\frac{a}{b}}^{\\infty} (a - bi) \\, e^{-\\lambda i} \\, di \\, dh \\right)$$"
   ]
  },
  {
   "cell_type": "markdown",
   "metadata": {},
   "source": [
    "### 16.\n",
    "\n",
    "a.\n",
    "\n",
    "$$\\varphi_X(u) = \\frac{\\sin(u)}{u} = \\mathbb{E}[e^{iux}] = \\int_{-\\infty}^{\\infty} e^{iux} f_X(x) dx$$\n",
    "\n",
    "Then $f_X(x)$ is the inverse Fourier transform of $\\varphi_X(u)$:\n",
    "\n",
    "$$f_X(x) = \\frac{1}{2\\pi} \\int_{-\\infty}^{\\infty} e^{-iux} \\frac{\\sin(u)}{u} du = \\boxed{\\left\\{ \\begin{array}{ll} \\frac{1}{2} & -1 \\leq x \\leq 1 \\\\ 0 & \\text{otherwise} \\end{array} \\right.}\n",
    "$$\n",
    "\n",
    "b. Find $\\varphi_X(u)$ for exponential, uniform, and Gaussian r.v.'s.\n",
    "\n",
    "expoential: $f_X(x) =\\lambda e^{-\\lambda x}$, $x \\geq 0$\n",
    "\n",
    "$$\\varphi_X(u) = \\int_0^{\\infty} e^{iux} \\lambda e^{-\\lambda x} dx = \\frac{\\lambda}{iu-\\lambda} e^{(iu-\\lambda) x} \\Big|_{x=0}^{\\infty} = \\boxed{\\frac{\\lambda}{\\lambda-iu}}$$\n",
    "\n",
    "uniform: $f_X(x) = \\frac{1}{b-a}$, $a \\leq x \\leq b$\n",
    "\n",
    "$$\\varphi_X(u) = \\int_a^b e^{iux} \\frac{1}{b-a} dx = \\boxed{\\frac{1}{iu(b-a)} e^{iu(b-a)}}$$\n",
    "\n",
    "Gaussian: $f_X(x) = \\frac{1}{\\sqrt{2 \\pi \\sigma^2}} e^{-\\frac{(x-\\mu)^2}{2 \\sigma^2}}$, $x \\in \\mathbb{R}$\n",
    "\n",
    "$$\\varphi_X(u) = \\int_{-\\infty}^{\\infty} e^{iux} \\frac{1}{\\sqrt{2 \\pi \\sigma^2}} e^{-\\frac{(x-\\mu)^2}{2 \\sigma^2}} dx = \\boxed{e^{i \\mu u - \\frac{\\sigma^2 u^2}{2}}}$$"
   ]
  },
  {
   "cell_type": "markdown",
   "metadata": {},
   "source": [
    "c.\n",
    "\n",
    "$$\\varphi_X(u) = \\frac{\\lambda^2}{\\lambda^2 + u^2}$$\n",
    "\n",
    "Calculating the first four derivatives for finding central moments:\n",
    "\n",
    "$$\\frac{\\partial \\varphi_X(u)}{\\partial u} =\\frac{-2\\lambda^2 u}{(\\lambda^2 + u^2)^2} $$\n",
    "\n",
    "$$\\frac{\\partial^2 \\varphi_X(u)}{\\partial u^2} = \\frac{-2 \\lambda^2 (\\lambda^2 - 3u^2)}{(\\lambda^2 + u^2)^3}$$\n",
    "\n",
    "$$\\frac{\\partial^3 \\varphi_X(u)}{\\partial u^3} = \\frac{-24 \\lambda^2 u (u^2 - \\lambda^2)}{(\\lambda^2 + u^2)^4}$$\n",
    "\n",
    "$$\\frac{\\partial^4 \\varphi_X(u)}{\\partial u^4} = \\frac{24 \\lambda^2 (\\lambda^4 + 5u^4 - 10 \\lambda^2 u^2)}{(\\lambda^2 + u^2)^5}$$\n",
    "\n",
    "$$\\mu = \\mathbb{E}[X] = \\frac{1}{i} \\frac{\\partial \\varphi_X(u)}{\\partial u} \\Big|_{u=0} = \\frac{-2\\lambda^2 u}{i(\\lambda^2 + u^2)^2} \\Big|_{u=0} = 0$$\n",
    "\n",
    "First central moment is always zero: $\\mathbb{E}[(X-\\mu)^1] = \\boxed{0}$\n",
    "\n",
    "Second central moment:\n",
    "\n",
    "$$\\mathbb{E}[(X-\\mu)^2] = \\mathbb{E}[X^2] = -\\frac{\\partial^2 \\varphi_X(u)}{\\partial u^2} \\Big|_{u=0} = \\boxed{\\frac{2}{\\lambda^2}} $$\n",
    "\n",
    "Third central moment:\n",
    "\n",
    "$$\\mathbb{E}[(X-\\mu)^3] = \\mathbb{E}[X^3] = \\boxed{0}$$\n",
    "\n",
    "Fourth central moment:\n",
    "\n",
    "$$\\mathbb{E}[(X-\\mu)^4] = \\mathbb{E}[X^4] = \\frac{\\partial^4 \\varphi_X(u)}{\\partial u^4} \\Big|_{u=0} = \\boxed{\\frac{24}{\\lambda^4}}$$"
   ]
  },
  {
   "cell_type": "markdown",
   "metadata": {},
   "source": [
    "### 17.\n",
    "\n",
    "a.\n",
    "\n",
    "$$\\int_{-\\infty}^{\\infty} f_X(x) dx = \\frac{1}{2}k + k = \\frac{3}{2}k = 1 \\quad \\rightarrow \\quad \\boxed{k = \\frac{2}{3}}$$\n",
    "\n",
    "b.\n",
    "\n",
    "$$F_X(x) = \\int_{-\\infty}^x f_X(x) dx$$\n",
    "\n",
    "$$\\boxed{F_X(x) = \\left\\{ \\begin{array}{ll} \\frac{x^2}{3} & 0 \\leq x \\leq 1 \\\\ \\frac{1}{3}(2x-1) & 1 \\leq x \\leq 2 \\\\ 0 & \\text{o.w.} \\end{array} \\right.}$$\n",
    "\n",
    "c. The median $m$ satisfies the following:\n",
    "\n",
    "$$\\int_{-\\infty}^{m} f_X(x) dx = F_X(m) = \\frac{1}{2} \\quad \\rightarrow \\quad \\boxed{m = \\frac{5}{4}}$$\n",
    "\n",
    "Similarly, the lower quartile $q_l$ satisfies:\n",
    "\n",
    "$$F_X(q_l) = \\frac{1}{4} \\quad \\rightarrow \\quad \\boxed{q_l = \\frac{\\sqrt{3}}{2}}$$\n",
    "\n",
    "And for the upper quartile $q_u$:\n",
    "\n",
    "$$F_X(q_u) = \\frac{3}{4} \\quad \\rightarrow \\quad \\boxed{q_u = \\frac{13}{8}}$$"
   ]
  },
  {
   "cell_type": "markdown",
   "metadata": {},
   "source": [
    "### 18. Exercise 2.32\n",
    "\n",
    "a. We are given the pdf of $Z$:\n",
    "\n",
    "$$f_Z(z) = \\left\\{ \\begin{array}{ll} \\frac{2 \\lambda}{d(\\lambda d + 2)} z & 0 < z < d \\\\ \\frac{2 \\lambda}{\\lambda d + 2} e^{-\\lambda (z-d)} & z \\geq d \\end{array} \\right.$$\n",
    "\n",
    "We are also given that $Y$ is a function of $Z$, namely:\n",
    "\n",
    "$$Y = Z, \\quad 0 < Z < d$$\n",
    "\n",
    "$$Y = d, \\quad d \\leq Z < c + d$$\n",
    "\n",
    "$$Y = Z - c, \\quad Z \\geq c + d$$\n",
    "\n"
   ]
  },
  {
   "cell_type": "markdown",
   "metadata": {
    "collapsed": true
   },
   "source": [
    "To show that $f_Z(z)$ is properly defined, the following statements must be true:\n",
    "\n",
    "$$f_Z(z) \\geq 0 \\quad \\forall \\, z \\in \\mathbb{R}$$\n",
    "\n",
    "$$\\int_{-\\infty}^{\\infty} f_Z(z) dz = 1$$\n",
    "\n",
    "Let's check:\n",
    "\n",
    "$$\\int_{-\\infty}^{\\infty} f_Z(z) dz = \\int_0^d \\frac{2 \\lambda}{d(\\lambda d + 2)} z dz + \\int_d^{\\infty} \\frac{2 \\lambda}{\\lambda d + 2} e^{-\\lambda (z-d)} dz$$\n",
    "\n",
    "$$= \\frac{\\lambda d}{\\lambda d + 2} + \\left[ \\frac{-2}{\\lambda d + 2} e^{-\\lambda (z-d)} \\right] \\Big|_{z=d}^{\\infty} = \\frac{\\lambda d}{\\lambda d + 2} + \\frac{2}{\\lambda d + 2} = 1$$\n",
    "\n",
    "So it checks out.\n",
    "\n",
    "A plot of the distribution for $\\lambda = d =1$:"
   ]
  },
  {
   "cell_type": "code",
   "execution_count": 1,
   "metadata": {},
   "outputs": [
    {
     "data": {
      "image/png": "[encoded data removed]",
      "text/plain": [
       "<Figure size 1152x576 with 1 Axes>"
      ]
     },
     "metadata": {
      "needs_background": "light"
     },
     "output_type": "display_data"
    }
   ],
   "source": [
    "import numpy as np\n",
    "import matplotlib.pyplot as plt\n",
    "%matplotlib inline\n",
    "\n",
    "fig, ax = plt.subplots(figsize=(16,8))\n",
    "\n",
    "x = np.linspace(0,4, 1000)\n",
    "y = np.piecewise(x, [x<1, x >= 1], [lambda x: 2.0/3*x, lambda x: 2.0/3*np.e**(1-x)])\n",
    "\n",
    "ax.plot(x, y)\n",
    "ax.grid()\n",
    "ax.set_title(r'$f_Z(z)$')\n",
    "ax.set_xlabel(r'$z$')\n",
    "ax.set_xlim(0, 4)\n",
    "ax.set_ylim(0, 0.7)\n",
    "plt.show()"
   ]
  },
  {
   "cell_type": "markdown",
   "metadata": {},
   "source": [
    "b. Find $F_Y(y)$.\n",
    "\n",
    "For $0 < y < d$:\n",
    "\n",
    "$$F_Y(y) = \\int_{0}^{y} \\frac{2 \\lambda}{d(\\lambda d + 2)} z dz = \\boxed{\\frac{\\lambda y^2}{d(\\lambda d + 2)}}$$\n",
    "\n",
    "For $y = d$:\n",
    "\n",
    "$$F_Y(y) = \\frac{\\lambda d}{\\lambda d + 2} + \\int_d^{c+d} \\frac{2 \\lambda}{\\lambda d + 2} e^{-\\lambda (z-d)} dz = \\boxed{1 - \\frac{2}{\\lambda d + 2} e^{-\\lambda c}} $$\n",
    "\n",
    "For $d < y < \\infty$:\n",
    "\n",
    "$$F_Y(y) =  \\frac{\\lambda d}{\\lambda d + 2} + \\int_d^{y+c} \\frac{2 \\lambda}{\\lambda d + 2} e^{-\\lambda (z-d)} dz = \\frac{\\lambda d}{\\lambda d + 2} + \\left[ \\frac{-2}{\\lambda d + 2} e^{-\\lambda (z-d)} \\right] \\Big|_{z=d}^{y+c} = \\boxed{1 - \\frac{2}{\\lambda d +2} e^{-\\lambda (y+c-d)}}$$"
   ]
  }
 ],
 "metadata": {
  "kernelspec": {
   "display_name": "Python 2",
   "language": "python",
   "name": "python2"
  },
  "language_info": {
   "codemirror_mode": {
    "name": "ipython",
    "version": 2
   },
   "file_extension": ".py",
   "mimetype": "text/x-python",
   "name": "python",
   "nbconvert_exporter": "python",
   "pygments_lexer": "ipython2",
   "version": "2.7.12"
  }
 },
 "nbformat": 4,
 "nbformat_minor": 1
}
